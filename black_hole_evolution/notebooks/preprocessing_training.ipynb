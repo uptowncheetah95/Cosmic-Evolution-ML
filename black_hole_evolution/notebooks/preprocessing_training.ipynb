{
 "cells": [
  {
   "cell_type": "markdown",
   "id": "ccefcce3-a87c-469f-a21a-f4c6524702c9",
   "metadata": {},
   "source": [
    "# Black Hole Evolution Dataset Preparation\n",
    "\n",
    "This notebook extracts and formats time-series data from TNG100 to enable a LSTM to predict supermassive black hole evolution.\n"
   ]
  },
  {
   "cell_type": "markdown",
   "id": "a519a0ea-3d48-4820-be17-91204072d33b",
   "metadata": {
    "jp-MarkdownHeadingCollapsed": true,
    "tags": []
   },
   "source": [
    "### 1. Environment Setup\n",
    "---\n",
    "Import necessary libraries and configure global settings for reproducibility.\n"
   ]
  },
  {
   "cell_type": "code",
   "execution_count": 1,
   "id": "b4167640-e80f-43bd-b0f6-5d33958ea54c",
   "metadata": {
    "tags": []
   },
   "outputs": [
    {
     "name": "stdout",
     "output_type": "stream",
     "text": [
      "NumPy version: 1.24.3\n",
      "PyTorch version: 2.0.1+cpu\n"
     ]
    }
   ],
   "source": [
    "import requests\n",
    "import numpy as np\n",
    "import torch\n",
    "import random\n",
    "\n",
    "random.seed(42)  # Ensures reproducible random sampling later\n",
    "\n",
    "print(f\"NumPy version: {np.__version__}\")\n",
    "print(f\"PyTorch version: {torch.__version__}\")\n"
   ]
  },
  {
   "cell_type": "markdown",
   "id": "6a39f694-185b-4d85-9fc8-94975e09e4cd",
   "metadata": {
    "tags": []
   },
   "source": [
    "### 2. Load and Filter TNG100 Subhalo Catalog  \n",
    "---\n",
    "Locate the TNG100 simulation directory and loading the subhalo catalog from snapshot 33. We then extract all subhalos hosting supermassive black holes (SMBHs).\n"
   ]
  },
  {
   "cell_type": "markdown",
   "id": "522ef060-9069-4ff2-ae45-f9f21bbb9489",
   "metadata": {
    "tags": []
   },
   "source": [
    "#### 2.1 Load Preprocessed Dataset\n",
    "---\n",
    "This cell loads the preprocessed black hole evolution dataset from the data directory and confirms its structure. It also sets the simulation base path for future data access."
   ]
  },
  {
   "cell_type": "code",
   "execution_count": 3,
   "id": "01b7e544-0192-4c7c-a0d5-754e7f9ae387",
   "metadata": {
    "tags": []
   },
   "outputs": [
    {
     "name": "stdout",
     "output_type": "stream",
     "text": [
      "Dataset loaded with shape: (2500, 91)\n",
      "Columns: ['subhalo_id', 'bh_mass_snap18', 'bh_acc_snap18', 'stellar_mass_snap18', 'sfr_snap18', 'halo_mass_snap18', 'vel_disp_snap18', 'bh_mass_snap19', 'bh_acc_snap19', 'stellar_mass_snap19', 'sfr_snap19', 'halo_mass_snap19', 'vel_disp_snap19', 'bh_mass_snap20', 'bh_acc_snap20', 'stellar_mass_snap20', 'sfr_snap20', 'halo_mass_snap20', 'vel_disp_snap20', 'bh_mass_snap21', 'bh_acc_snap21', 'stellar_mass_snap21', 'sfr_snap21', 'halo_mass_snap21', 'vel_disp_snap21', 'bh_mass_snap22', 'bh_acc_snap22', 'stellar_mass_snap22', 'sfr_snap22', 'halo_mass_snap22', 'vel_disp_snap22', 'bh_mass_snap23', 'bh_acc_snap23', 'stellar_mass_snap23', 'sfr_snap23', 'halo_mass_snap23', 'vel_disp_snap23', 'bh_mass_snap24', 'bh_acc_snap24', 'stellar_mass_snap24', 'sfr_snap24', 'halo_mass_snap24', 'vel_disp_snap24', 'bh_mass_snap25', 'bh_acc_snap25', 'stellar_mass_snap25', 'sfr_snap25', 'halo_mass_snap25', 'vel_disp_snap25', 'bh_mass_snap26', 'bh_acc_snap26', 'stellar_mass_snap26', 'sfr_snap26', 'halo_mass_snap26', 'vel_disp_snap26', 'bh_mass_snap27', 'bh_acc_snap27', 'stellar_mass_snap27', 'sfr_snap27', 'halo_mass_snap27', 'vel_disp_snap27', 'bh_mass_snap28', 'bh_acc_snap28', 'stellar_mass_snap28', 'sfr_snap28', 'halo_mass_snap28', 'vel_disp_snap28', 'bh_mass_snap29', 'bh_acc_snap29', 'stellar_mass_snap29', 'sfr_snap29', 'halo_mass_snap29', 'vel_disp_snap29', 'bh_mass_snap30', 'bh_acc_snap30', 'stellar_mass_snap30', 'sfr_snap30', 'halo_mass_snap30', 'vel_disp_snap30', 'bh_mass_snap31', 'bh_acc_snap31', 'stellar_mass_snap31', 'sfr_snap31', 'halo_mass_snap31', 'vel_disp_snap31', 'bh_mass_snap32', 'bh_acc_snap32', 'stellar_mass_snap32', 'sfr_snap32', 'halo_mass_snap32', 'vel_disp_snap32']\n"
     ]
    }
   ],
   "source": [
    "import illustris_python as il\n",
    "import pandas as pd\n",
    "\n",
    "# Set simulation base path\n",
    "basePath = \"/home/tnguser/sims.TNG/TNG100-1\"\n",
    "\n",
    "# Load precompiled black hole sample from CSV\n",
    "csv_path = \"/home/tnguser/cosmic-evolution-ml/black_hole_evolution/data/black_hole_evolution_tng100.csv\"\n",
    "df = pd.read_csv(csv_path)\n",
    "\n",
    "print(f\"Dataset loaded with shape: {df.shape}\")\n",
    "print(\"Columns:\", df.columns.tolist())\n"
   ]
  },
  {
   "cell_type": "markdown",
   "id": "886c4a12-1d3f-49ed-aa35-fdd241975b8c",
   "metadata": {},
   "source": [
    "#### 2.2 Extract Time-Series Data for Modeling\n",
    "---\n",
    "This cell organizes the dataset into time-series format, reshaping the features for each black hole into sequences suitable for temporal modeling."
   ]
  },
  {
   "cell_type": "code",
   "execution_count": 7,
   "id": "a1c7cfd8-bb30-4145-860c-0893b7135b0b",
   "metadata": {
    "tags": []
   },
   "outputs": [
    {
     "ename": "KeyError",
     "evalue": "'Snapshot'",
     "output_type": "error",
     "traceback": [
      "\u001b[0;31m---------------------------------------------------------------------------\u001b[0m",
      "\u001b[0;31mKeyError\u001b[0m                                  Traceback (most recent call last)",
      "\u001b[0;32m/tmp/ipykernel_2154/2917706866.py\u001b[0m in \u001b[0;36m?\u001b[0;34m()\u001b[0m\n\u001b[1;32m     20\u001b[0m \u001b[0msequences\u001b[0m \u001b[0;34m=\u001b[0m \u001b[0;34m[\u001b[0m\u001b[0;34m]\u001b[0m\u001b[0;34m\u001b[0m\u001b[0;34m\u001b[0m\u001b[0m\n\u001b[1;32m     21\u001b[0m \u001b[0mtargets\u001b[0m \u001b[0;34m=\u001b[0m \u001b[0;34m[\u001b[0m\u001b[0;34m]\u001b[0m\u001b[0;34m\u001b[0m\u001b[0;34m\u001b[0m\u001b[0m\n\u001b[1;32m     22\u001b[0m \u001b[0;34m\u001b[0m\u001b[0m\n\u001b[1;32m     23\u001b[0m \u001b[0;32mfor\u001b[0m \u001b[0msub_id\u001b[0m\u001b[0;34m,\u001b[0m \u001b[0mgroup\u001b[0m \u001b[0;32min\u001b[0m \u001b[0mgrouped\u001b[0m\u001b[0;34m:\u001b[0m\u001b[0;34m\u001b[0m\u001b[0;34m\u001b[0m\u001b[0m\n\u001b[0;32m---> 24\u001b[0;31m     \u001b[0mgroup_sorted\u001b[0m \u001b[0;34m=\u001b[0m \u001b[0mgroup\u001b[0m\u001b[0;34m.\u001b[0m\u001b[0msort_values\u001b[0m\u001b[0;34m(\u001b[0m\u001b[0;34m'Snapshot'\u001b[0m\u001b[0;34m)\u001b[0m\u001b[0;34m\u001b[0m\u001b[0;34m\u001b[0m\u001b[0m\n\u001b[0m\u001b[1;32m     25\u001b[0m     \u001b[0;32mif\u001b[0m \u001b[0mlen\u001b[0m\u001b[0;34m(\u001b[0m\u001b[0mgroup_sorted\u001b[0m\u001b[0;34m)\u001b[0m \u001b[0;34m==\u001b[0m \u001b[0mnum_steps\u001b[0m\u001b[0;34m:\u001b[0m\u001b[0;34m\u001b[0m\u001b[0;34m\u001b[0m\u001b[0m\n\u001b[1;32m     26\u001b[0m         \u001b[0msubhalo_ids\u001b[0m\u001b[0;34m.\u001b[0m\u001b[0mappend\u001b[0m\u001b[0;34m(\u001b[0m\u001b[0msub_id\u001b[0m\u001b[0;34m)\u001b[0m\u001b[0;34m\u001b[0m\u001b[0;34m\u001b[0m\u001b[0m\n\u001b[1;32m     27\u001b[0m         \u001b[0msequences\u001b[0m\u001b[0;34m.\u001b[0m\u001b[0mappend\u001b[0m\u001b[0;34m(\u001b[0m\u001b[0mgroup_sorted\u001b[0m\u001b[0;34m[\u001b[0m\u001b[0mfeature_cols\u001b[0m\u001b[0;34m]\u001b[0m\u001b[0;34m.\u001b[0m\u001b[0mvalues\u001b[0m\u001b[0;34m)\u001b[0m\u001b[0;34m\u001b[0m\u001b[0;34m\u001b[0m\u001b[0m\n",
      "\u001b[0;32m/opt/conda/lib/python3.11/site-packages/pandas/core/frame.py\u001b[0m in \u001b[0;36m?\u001b[0;34m(self, by, axis, ascending, inplace, kind, na_position, ignore_index, key)\u001b[0m\n\u001b[1;32m   6754\u001b[0m         \u001b[0;32melif\u001b[0m \u001b[0mlen\u001b[0m\u001b[0;34m(\u001b[0m\u001b[0mby\u001b[0m\u001b[0;34m)\u001b[0m\u001b[0;34m:\u001b[0m\u001b[0;34m\u001b[0m\u001b[0;34m\u001b[0m\u001b[0m\n\u001b[1;32m   6755\u001b[0m             \u001b[0;31m# len(by) == 1\u001b[0m\u001b[0;34m\u001b[0m\u001b[0;34m\u001b[0m\u001b[0m\n\u001b[1;32m   6756\u001b[0m \u001b[0;34m\u001b[0m\u001b[0m\n\u001b[1;32m   6757\u001b[0m             \u001b[0mby\u001b[0m \u001b[0;34m=\u001b[0m \u001b[0mby\u001b[0m\u001b[0;34m[\u001b[0m\u001b[0;36m0\u001b[0m\u001b[0;34m]\u001b[0m\u001b[0;34m\u001b[0m\u001b[0;34m\u001b[0m\u001b[0m\n\u001b[0;32m-> 6758\u001b[0;31m             \u001b[0mk\u001b[0m \u001b[0;34m=\u001b[0m \u001b[0mself\u001b[0m\u001b[0;34m.\u001b[0m\u001b[0m_get_label_or_level_values\u001b[0m\u001b[0;34m(\u001b[0m\u001b[0mby\u001b[0m\u001b[0;34m,\u001b[0m \u001b[0maxis\u001b[0m\u001b[0;34m=\u001b[0m\u001b[0maxis\u001b[0m\u001b[0;34m)\u001b[0m\u001b[0;34m\u001b[0m\u001b[0;34m\u001b[0m\u001b[0m\n\u001b[0m\u001b[1;32m   6759\u001b[0m \u001b[0;34m\u001b[0m\u001b[0m\n\u001b[1;32m   6760\u001b[0m             \u001b[0;31m# need to rewrap column in Series to apply key function\u001b[0m\u001b[0;34m\u001b[0m\u001b[0;34m\u001b[0m\u001b[0m\n\u001b[1;32m   6761\u001b[0m             \u001b[0;32mif\u001b[0m \u001b[0mkey\u001b[0m \u001b[0;32mis\u001b[0m \u001b[0;32mnot\u001b[0m \u001b[0;32mNone\u001b[0m\u001b[0;34m:\u001b[0m\u001b[0;34m\u001b[0m\u001b[0;34m\u001b[0m\u001b[0m\n",
      "\u001b[0;32m/opt/conda/lib/python3.11/site-packages/pandas/core/generic.py\u001b[0m in \u001b[0;36m?\u001b[0;34m(self, key, axis)\u001b[0m\n\u001b[1;32m   1774\u001b[0m             \u001b[0mvalues\u001b[0m \u001b[0;34m=\u001b[0m \u001b[0mself\u001b[0m\u001b[0;34m.\u001b[0m\u001b[0mxs\u001b[0m\u001b[0;34m(\u001b[0m\u001b[0mkey\u001b[0m\u001b[0;34m,\u001b[0m \u001b[0maxis\u001b[0m\u001b[0;34m=\u001b[0m\u001b[0mother_axes\u001b[0m\u001b[0;34m[\u001b[0m\u001b[0;36m0\u001b[0m\u001b[0;34m]\u001b[0m\u001b[0;34m)\u001b[0m\u001b[0;34m.\u001b[0m\u001b[0m_values\u001b[0m\u001b[0;34m\u001b[0m\u001b[0;34m\u001b[0m\u001b[0m\n\u001b[1;32m   1775\u001b[0m         \u001b[0;32melif\u001b[0m \u001b[0mself\u001b[0m\u001b[0;34m.\u001b[0m\u001b[0m_is_level_reference\u001b[0m\u001b[0;34m(\u001b[0m\u001b[0mkey\u001b[0m\u001b[0;34m,\u001b[0m \u001b[0maxis\u001b[0m\u001b[0;34m=\u001b[0m\u001b[0maxis\u001b[0m\u001b[0;34m)\u001b[0m\u001b[0;34m:\u001b[0m\u001b[0;34m\u001b[0m\u001b[0;34m\u001b[0m\u001b[0m\n\u001b[1;32m   1776\u001b[0m             \u001b[0mvalues\u001b[0m \u001b[0;34m=\u001b[0m \u001b[0mself\u001b[0m\u001b[0;34m.\u001b[0m\u001b[0maxes\u001b[0m\u001b[0;34m[\u001b[0m\u001b[0maxis\u001b[0m\u001b[0;34m]\u001b[0m\u001b[0;34m.\u001b[0m\u001b[0mget_level_values\u001b[0m\u001b[0;34m(\u001b[0m\u001b[0mkey\u001b[0m\u001b[0;34m)\u001b[0m\u001b[0;34m.\u001b[0m\u001b[0m_values\u001b[0m\u001b[0;34m\u001b[0m\u001b[0;34m\u001b[0m\u001b[0m\n\u001b[1;32m   1777\u001b[0m         \u001b[0;32melse\u001b[0m\u001b[0;34m:\u001b[0m\u001b[0;34m\u001b[0m\u001b[0;34m\u001b[0m\u001b[0m\n\u001b[0;32m-> 1778\u001b[0;31m             \u001b[0;32mraise\u001b[0m \u001b[0mKeyError\u001b[0m\u001b[0;34m(\u001b[0m\u001b[0mkey\u001b[0m\u001b[0;34m)\u001b[0m\u001b[0;34m\u001b[0m\u001b[0;34m\u001b[0m\u001b[0m\n\u001b[0m\u001b[1;32m   1779\u001b[0m \u001b[0;34m\u001b[0m\u001b[0m\n\u001b[1;32m   1780\u001b[0m         \u001b[0;31m# Check for duplicates\u001b[0m\u001b[0;34m\u001b[0m\u001b[0;34m\u001b[0m\u001b[0m\n\u001b[1;32m   1781\u001b[0m         \u001b[0;32mif\u001b[0m \u001b[0mvalues\u001b[0m\u001b[0;34m.\u001b[0m\u001b[0mndim\u001b[0m \u001b[0;34m>\u001b[0m \u001b[0;36m1\u001b[0m\u001b[0;34m:\u001b[0m\u001b[0;34m\u001b[0m\u001b[0;34m\u001b[0m\u001b[0m\n",
      "\u001b[0;31mKeyError\u001b[0m: 'Snapshot'"
     ]
    }
   ],
   "source": [
    "import numpy as np\n",
    "import torch\n",
    "\n",
    "# Define input features and target columns\n",
    "feature_cols = [\n",
    "    'BH_Mass', 'BH_AccretionRate', 'StellarMass',\n",
    "    'HaloMass', 'VelocityDispersion', 'SFR'\n",
    "]\n",
    "target_cols = [\n",
    "    'Future_BH_Mass', 'Future_BH_AccretionRate',\n",
    "    'Future_BH_to_StellarMass_Ratio', 'Quenching_Snapshot'\n",
    "]\n",
    "\n",
    "# Get number of time steps (snapshots 18–32 inclusive → 15 steps)\n",
    "num_steps = 15\n",
    "\n",
    "# Group by SubhaloID and sort by Snapshot\n",
    "grouped = df.groupby('subhalo_id')\n",
    "subhalo_ids = []\n",
    "sequences = []\n",
    "targets = []\n",
    "\n",
    "for sub_id, group in grouped:\n",
    "    group_sorted = group.sort_values('Snapshot')\n",
    "    if len(group_sorted) == num_steps:\n",
    "        subhalo_ids.append(sub_id)\n",
    "        sequences.append(group_sorted[feature_cols].values)\n",
    "        targets.append(group_sorted[target_cols].values[-1])  # only final snapshot\n",
    "\n",
    "# Convert to tensors\n",
    "X = torch.tensor(np.array(sequences), dtype=torch.float32)\n",
    "y = torch.tensor(np.array(targets), dtype=torch.float32)\n",
    "\n",
    "print(f\"Input tensor shape: {X.shape}\")\n",
    "print(f\"Target tensor shape: {y.shape}\")\n"
   ]
  },
  {
   "cell_type": "code",
   "execution_count": null,
   "id": "0fa9b09e-e23e-45e4-a5c5-bf86d8086e47",
   "metadata": {},
   "outputs": [],
   "source": []
  }
 ],
 "metadata": {
  "kernelspec": {
   "display_name": "Python 3 (ipykernel)",
   "language": "python",
   "name": "python3"
  },
  "language_info": {
   "codemirror_mode": {
    "name": "ipython",
    "version": 3
   },
   "file_extension": ".py",
   "mimetype": "text/x-python",
   "name": "python",
   "nbconvert_exporter": "python",
   "pygments_lexer": "ipython3",
   "version": "3.11.4"
  }
 },
 "nbformat": 4,
 "nbformat_minor": 5
}
