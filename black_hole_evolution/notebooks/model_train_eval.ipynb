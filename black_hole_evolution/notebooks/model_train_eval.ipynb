{
 "cells": [
  {
   "cell_type": "markdown",
   "id": "af4e5615-00a0-4706-9131-cd31277f4e2a",
   "metadata": {},
   "source": [
    "# 03 — Model Training & Evaluation (Sequence, Multi-Output)\n",
    "\n",
    "This notebook trains and evaluates a multi-output model that predicts the **full next-step state**\n",
    "(BH mass, accretion, stellar mass, SFR, halo mass, velocity dispersion) from a window of past snapshots.\n",
    "\n",
    "**Inputs:** `../data/processed/{ids.npy, snapshots.npy, features.npy}` and `../data/stats/{feat_mean.npy, feat_std.npy}`  \n",
    "**Outputs:** trained checkpoints (`../data/models/`) and forecasts (`../data/forecasts/`).\n"
   ]
  },
  {
   "cell_type": "markdown",
   "id": "f6fc7ad4-f456-4c6c-8fcd-a253b999d373",
   "metadata": {
    "jp-MarkdownHeadingCollapsed": true,
    "tags": []
   },
   "source": [
    "### 1. Imports & Config\n",
    "---"
   ]
  },
  {
   "cell_type": "code",
   "execution_count": 2,
   "id": "52026c92-e161-43d0-b192-47d91c37dcdc",
   "metadata": {
    "tags": []
   },
   "outputs": [
    {
     "data": {
      "text/plain": [
       "device(type='cpu')"
      ]
     },
     "execution_count": 2,
     "metadata": {},
     "output_type": "execute_result"
    }
   ],
   "source": [
    "from pathlib import Path\n",
    "import numpy as np\n",
    "import pandas as pd\n",
    "import torch\n",
    "from torch.utils.data import Dataset, DataLoader, random_split\n",
    "\n",
    "# Reproducibility\n",
    "SEED = 42\n",
    "torch.manual_seed(SEED)\n",
    "np.random.default_rng(SEED)\n",
    "\n",
    "# Paths (must match your data-prep notebook layout)\n",
    "DATA_ROOT = Path(\"../data\")\n",
    "PROC_DIR  = DATA_ROOT / \"processed\"\n",
    "STATS_DIR = DATA_ROOT / \"stats\"\n",
    "MODEL_DIR = DATA_ROOT / \"models\"\n",
    "FORE_DIR  = DATA_ROOT / \"forecasts\"\n",
    "for d in [PROC_DIR, STATS_DIR, MODEL_DIR, FORE_DIR]:\n",
    "    d.mkdir(parents=True, exist_ok=True)\n",
    "\n",
    "# Feature names (order must match your CSV/arrays)\n",
    "FEATURES = [\"bh_mass\",\"bh_acc\",\"stellar_mass\",\"sfr\",\"halo_mass\",\"vel_disp\"]\n",
    "\n",
    "# Device\n",
    "device = torch.device(\"cuda\" if torch.cuda.is_available() else \"cpu\")\n",
    "device\n"
   ]
  },
  {
   "cell_type": "markdown",
   "id": "461a3abb-4d96-45d4-a7b1-f4c1981c6159",
   "metadata": {
    "jp-MarkdownHeadingCollapsed": true,
    "tags": []
   },
   "source": [
    "### 2. Load processed arrays & normalization stats (strict)\n",
    "---"
   ]
  },
  {
   "cell_type": "code",
   "execution_count": 3,
   "id": "f2ca0139-006c-46b4-95f2-8503dfa36ac7",
   "metadata": {
    "tags": []
   },
   "outputs": [
    {
     "name": "stdout",
     "output_type": "stream",
     "text": [
      "[OK] Loaded arrays: rows=37500, features=6\n",
      "[OK] Snapshot range: 18–32\n"
     ]
    }
   ],
   "source": [
    "req = {\n",
    "    \"ids\":        PROC_DIR / \"ids.npy\",\n",
    "    \"snapshots\":  PROC_DIR / \"snapshots.npy\",\n",
    "    \"features\":   PROC_DIR / \"features.npy\",\n",
    "    \"feat_mean\":  STATS_DIR / \"feat_mean.npy\",\n",
    "    \"feat_std\":   STATS_DIR / \"feat_std.npy\",\n",
    "}\n",
    "missing = [k for k,p in req.items() if not p.exists()]\n",
    "if missing:\n",
    "    raise FileNotFoundError(\n",
    "        f\"Missing required files: {missing}. \"\n",
    "        f\"Re-run data prep notebook to regenerate arrays/stats.\"\n",
    "    )\n",
    "\n",
    "# Load\n",
    "ids   = np.load(req[\"ids\"])\n",
    "snaps = np.load(req[\"snapshots\"]).astype(int)\n",
    "Xraw  = np.load(req[\"features\"]).astype(np.float32)\n",
    "mean  = np.load(req[\"feat_mean\"]).astype(np.float64)\n",
    "std   = np.load(req[\"feat_std\"]).astype(np.float64)\n",
    "\n",
    "# Basic shape agreement\n",
    "assert len(ids) == len(snaps) == len(Xraw), \"ids/snapshots/features length mismatch\"\n",
    "F = Xraw.shape[1]\n",
    "assert F == len(FEATURES), f\"Feature count {F} != FEATURES list {len(FEATURES)}\"\n",
    "\n",
    "print(f\"[OK] Loaded arrays: rows={len(ids)}, features={F}\")\n",
    "print(f\"[OK] Snapshot range: {snaps.min()}–{snaps.max()}\")\n"
   ]
  },
  {
   "cell_type": "markdown",
   "id": "9740dffe-ede1-4cc4-af2b-4f08480b5343",
   "metadata": {
    "jp-MarkdownHeadingCollapsed": true,
    "tags": []
   },
   "source": [
    "### 3. Sanity checks & normalization\n",
    "---"
   ]
  },
  {
   "cell_type": "code",
   "execution_count": 4,
   "id": "9147c7a2-5a29-49a1-998f-5b6f896b8b71",
   "metadata": {
    "tags": []
   },
   "outputs": [
    {
     "name": "stdout",
     "output_type": "stream",
     "text": [
      "[CHECK] Raw features: NaN=False, Inf=False\n",
      "[INFO] Unique subhalos: 2500\n",
      "[INFO] Sequence length (rows per subhalo) quantiles:\n",
      " min    15.0\n",
      "25%    15.0\n",
      "50%    15.0\n",
      "75%    15.0\n",
      "max    15.0\n",
      "[OK] Normalized. Sample slice shape: (5000, 6)\n"
     ]
    }
   ],
   "source": [
    "# NaN / inf checks in raw features\n",
    "has_nan = np.isnan(Xraw).any()\n",
    "has_inf = np.isinf(Xraw).any()\n",
    "print(f\"[CHECK] Raw features: NaN={has_nan}, Inf={has_inf}\")\n",
    "\n",
    "# Replace any lingering NaNs/Infs in raw (should be rare after prep)\n",
    "Xraw = np.nan_to_num(Xraw, nan=0.0, posinf=0.0, neginf=0.0)\n",
    "\n",
    "# Normalize using stored stats\n",
    "eps = 1e-8\n",
    "Xnorm = (Xraw - mean) / (std + eps)\n",
    "Xnorm = np.nan_to_num(Xnorm, nan=0.0, posinf=0.0, neginf=0.0)\n",
    "\n",
    "# Quick metadata\n",
    "n_ids = np.unique(ids).size\n",
    "by_id_counts = pd.Series(ids).value_counts().describe()[[\"min\",\"25%\",\"50%\",\"75%\",\"max\"]]\n",
    "print(f\"[INFO] Unique subhalos: {n_ids}\")\n",
    "print(\"[INFO] Sequence length (rows per subhalo) quantiles:\\n\", by_id_counts.to_string())\n",
    "\n",
    "# Keep a tiny sample for smoke tests later\n",
    "ix = np.random.choice(len(ids), size=min(5_000, len(ids)), replace=False)\n",
    "print(f\"[OK] Normalized. Sample slice shape: {Xnorm[ix].shape}\")\n"
   ]
  },
  {
   "cell_type": "markdown",
   "id": "e48db4b1-f25b-46cc-adbf-2b3054f4a9f7",
   "metadata": {
    "jp-MarkdownHeadingCollapsed": true,
    "tags": []
   },
   "source": [
    "### 4. Windowed sequence dataset (W steps → predict next-step full vector)\n",
    "---"
   ]
  },
  {
   "cell_type": "code",
   "execution_count": 5,
   "id": "df2b1bee-2727-4f63-99d9-0ad8422c4abd",
   "metadata": {
    "tags": []
   },
   "outputs": [
    {
     "name": "stdout",
     "output_type": "stream",
     "text": [
      "[OK] Dataset built: 17500 samples | Window=8 | F=6\n",
      "Batch shapes: torch.Size([64, 8, 6]) torch.Size([64, 6])\n"
     ]
    }
   ],
   "source": [
    "class BHWindowDataset(Dataset):\n",
    "    \"\"\"\n",
    "    Each item:\n",
    "      X: [W, F]  (window of W normalized steps)\n",
    "      y: [F]     (next-step full vector, normalized)\n",
    "    \"\"\"\n",
    "    def __init__(self, ids, snaps, feats_norm, window=8):\n",
    "        self.window = window\n",
    "        self.samples = []\n",
    "\n",
    "        # group by subhalo_id and build sliding windows\n",
    "        for sid in np.unique(ids):\n",
    "            m = (ids == sid)\n",
    "            s = snaps[m]\n",
    "            x = feats_norm[m]\n",
    "            order = np.argsort(s)\n",
    "            s = s[order]; x = x[order]\n",
    "\n",
    "            if len(x) <= window:\n",
    "                continue\n",
    "            for t in range(window, len(x)):\n",
    "                Xw = x[t-window:t, :]   # [W, F]\n",
    "                y  = x[t, :]            # [F]\n",
    "                # safety\n",
    "                if np.isnan(Xw).any() or np.isnan(y).any():\n",
    "                    continue\n",
    "                self.samples.append((Xw.astype(np.float32), y.astype(np.float32)))\n",
    "\n",
    "    def __len__(self): return len(self.samples)\n",
    "\n",
    "    def __getitem__(self, idx):\n",
    "        Xw, y = self.samples[idx]\n",
    "        Xw = torch.from_numpy(Xw)\n",
    "        y  = torch.from_numpy(y)\n",
    "        Xw = torch.nan_to_num(Xw, nan=0.0)\n",
    "        y  = torch.nan_to_num(y,  nan=0.0)\n",
    "        return Xw, y\n",
    "\n",
    "# Build dataset and loaders\n",
    "WINDOW   = 8\n",
    "BATCH    = 64\n",
    "VAL_FRAC = 0.2\n",
    "\n",
    "full_ds = BHWindowDataset(ids, snaps, Xnorm, window=WINDOW)\n",
    "val_size = int(len(full_ds) * VAL_FRAC)\n",
    "train_size = len(full_ds) - val_size\n",
    "train_ds, val_ds = random_split(full_ds, [train_size, val_size], generator=torch.Generator().manual_seed(SEED))\n",
    "\n",
    "train_loader = DataLoader(train_ds, batch_size=BATCH, shuffle=True, drop_last=False)\n",
    "val_loader   = DataLoader(val_ds,   batch_size=BATCH, shuffle=False, drop_last=False)\n",
    "\n",
    "xb, yb = next(iter(train_loader))\n",
    "print(f\"[OK] Dataset built: {len(full_ds)} samples | Window={WINDOW} | F={xb.shape[-1]}\")\n",
    "print(\"Batch shapes:\", xb.shape, yb.shape)  # (B, W, F) and (B, F)\n"
   ]
  },
  {
   "cell_type": "markdown",
   "id": "3cfe6307-b855-4001-a99c-fafa22ff019a",
   "metadata": {
    "jp-MarkdownHeadingCollapsed": true,
    "tags": []
   },
   "source": [
    "### 5. LSTM model (W steps → next-step full vector)\n",
    "---"
   ]
  },
  {
   "cell_type": "code",
   "execution_count": 6,
   "id": "0a904e46-9271-4bd0-94a6-d700efb505c9",
   "metadata": {
    "tags": []
   },
   "outputs": [
    {
     "name": "stdout",
     "output_type": "stream",
     "text": [
      "BHSequenceLSTM(\n",
      "  (lstm): LSTM(6, 128, num_layers=2, batch_first=True, dropout=0.1)\n",
      "  (head): Sequential(\n",
      "    (0): Linear(in_features=128, out_features=128, bias=True)\n",
      "    (1): ReLU()\n",
      "    (2): Dropout(p=0.1, inplace=False)\n",
      "    (3): Linear(in_features=128, out_features=6, bias=True)\n",
      "  )\n",
      ")\n"
     ]
    }
   ],
   "source": [
    "import torch\n",
    "import torch.nn as nn\n",
    "\n",
    "class BHSequenceLSTM(nn.Module):\n",
    "    def __init__(self, input_size, hidden=128, layers=2, dropout=0.1, output_size=None):\n",
    "        super().__init__()\n",
    "        if output_size is None:\n",
    "            output_size = input_size\n",
    "        self.lstm = nn.LSTM(\n",
    "            input_size=input_size,\n",
    "            hidden_size=hidden,\n",
    "            num_layers=layers,\n",
    "            batch_first=True,\n",
    "            dropout=dropout if layers > 1 else 0.0,\n",
    "        )\n",
    "        self.head = nn.Sequential(\n",
    "            nn.Linear(hidden, hidden),\n",
    "            nn.ReLU(),\n",
    "            nn.Dropout(dropout),\n",
    "            nn.Linear(hidden, output_size),\n",
    "        )\n",
    "\n",
    "    def forward(self, x):              # x: [B, W, F]\n",
    "        h, _ = self.lstm(x)            # h: [B, W, H]\n",
    "        out = self.head(h[:, -1, :])   # last step → [B, F]\n",
    "        return out\n",
    "\n",
    "F = xb.shape[-1]\n",
    "model = BHSequenceLSTM(input_size=F, hidden=128, layers=2, dropout=0.1, output_size=F).to(device)\n",
    "print(model)\n"
   ]
  },
  {
   "cell_type": "markdown",
   "id": "1537c799-779a-417e-a181-f725b9aee8b3",
   "metadata": {
    "jp-MarkdownHeadingCollapsed": true,
    "tags": []
   },
   "source": [
    "### 6. Train (MSE, Adam, grad clipping)\n",
    "---"
   ]
  },
  {
   "cell_type": "code",
   "execution_count": 7,
   "id": "58922dff-2fb2-452f-a938-16fe0ae72e58",
   "metadata": {
    "tags": []
   },
   "outputs": [
    {
     "name": "stdout",
     "output_type": "stream",
     "text": [
      "Epoch 01 | train 1.160895 | val 0.690290\n",
      "Epoch 02 | train 0.676071 | val 0.569815\n",
      "Epoch 03 | train 0.577680 | val 0.520194\n",
      "Epoch 04 | train 0.512043 | val 0.484224\n",
      "Epoch 05 | train 0.475352 | val 0.464384\n",
      "Epoch 06 | train 0.448794 | val 0.448995\n",
      "Epoch 07 | train 0.434585 | val 0.436374\n",
      "Epoch 08 | train 0.422597 | val 0.424775\n",
      "Epoch 09 | train 0.413807 | val 0.419059\n",
      "Epoch 10 | train 0.401216 | val 0.415601\n",
      "Epoch 11 | train 0.395996 | val 0.407365\n",
      "Epoch 12 | train 0.386576 | val 0.403734\n",
      "Epoch 13 | train 0.377140 | val 0.398750\n",
      "Epoch 14 | train 0.372357 | val 0.396202\n",
      "Epoch 15 | train 0.368371 | val 0.391614\n",
      "Epoch 16 | train 0.360466 | val 0.386296\n",
      "Epoch 17 | train 0.354259 | val 0.386919\n",
      "Epoch 18 | train 0.348903 | val 0.382090\n",
      "Epoch 19 | train 0.344277 | val 0.378835\n",
      "Epoch 20 | train 0.345496 | val 0.378610\n"
     ]
    }
   ],
   "source": [
    "import torch.optim as optim\n",
    "from math import isfinite\n",
    "\n",
    "criterion = nn.MSELoss()\n",
    "optimizer = optim.Adam(model.parameters(), lr=1e-4, weight_decay=1e-4)\n",
    "\n",
    "EPOCHS = 20\n",
    "CLIP = 1.0\n",
    "\n",
    "for ep in range(1, EPOCHS + 1):\n",
    "    # ---- Train ----\n",
    "    model.train()\n",
    "    tr_sum, ntr = 0.0, 0\n",
    "    for Xw, y in train_loader:\n",
    "        Xw = torch.nan_to_num(Xw, nan=0.0).to(device)\n",
    "        y  = torch.nan_to_num(y,  nan=0.0).to(device)\n",
    "\n",
    "        optimizer.zero_grad()\n",
    "        pred = model(Xw)\n",
    "        loss = criterion(pred, y)\n",
    "        if not isfinite(loss.item()):\n",
    "            continue\n",
    "        loss.backward()\n",
    "        nn.utils.clip_grad_norm_(model.parameters(), CLIP)\n",
    "        optimizer.step()\n",
    "\n",
    "        tr_sum += loss.item() * Xw.size(0)\n",
    "        ntr += Xw.size(0)\n",
    "    tr = tr_sum / max(ntr, 1)\n",
    "\n",
    "    # ---- Validate ----\n",
    "    model.eval()\n",
    "    va_sum, nva = 0.0, 0\n",
    "    with torch.no_grad():\n",
    "        for Xw, y in val_loader:\n",
    "            Xw = torch.nan_to_num(Xw, nan=0.0).to(device)\n",
    "            y  = torch.nan_to_num(y,  nan=0.0).to(device)\n",
    "            v  = criterion(model(Xw), y)\n",
    "            if isfinite(v.item()):\n",
    "                va_sum += v.item() * Xw.size(0)\n",
    "                nva += Xw.size(0)\n",
    "    va = va_sum / max(nva, 1)\n",
    "\n",
    "    print(f\"Epoch {ep:02d} | train {tr:.6f} | val {va:.6f}\")\n"
   ]
  },
  {
   "cell_type": "markdown",
   "id": "bcc74bf1-0dd1-4b88-bc63-3923b39685bf",
   "metadata": {
    "jp-MarkdownHeadingCollapsed": true,
    "tags": []
   },
   "source": [
    "### 7. Metrics: per-feature RMSE/MAE (norm + physical units)\n",
    "---"
   ]
  },
  {
   "cell_type": "code",
   "execution_count": 8,
   "id": "71d2b03b-15df-4053-8321-3570209ddf86",
   "metadata": {
    "tags": []
   },
   "outputs": [
    {
     "name": "stdout",
     "output_type": "stream",
     "text": [
      "Per-feature (normalized) RMSE / MAE:\n",
      "- bh_mass: RMSE=0.3153 | MAE=0.0565\n",
      "- bh_acc: RMSE=0.8048 | MAE=0.1353\n",
      "- stellar_mass: RMSE=0.1844 | MAE=0.0549\n",
      "- sfr: RMSE=1.1604 | MAE=0.1248\n",
      "- halo_mass: RMSE=0.2804 | MAE=0.0989\n",
      "- vel_disp: RMSE=0.2555 | MAE=0.1604\n",
      "\n",
      "Per-feature (physical units) RMSE / MAE:\n",
      "- bh_mass: RMSE=9.7531e-04 | MAE=1.7476e-04\n",
      "- bh_acc: RMSE=5.7327e-03 | MAE=9.6397e-04\n",
      "- stellar_mass: RMSE=1.3329e-01 | MAE=3.9666e-02\n",
      "- sfr: RMSE=1.2558e+01 | MAE=1.3510e+00\n",
      "- halo_mass: RMSE=6.9239e+00 | MAE=2.4414e+00\n",
      "- vel_disp: RMSE=7.2916e+00 | MAE=4.5779e+00\n"
     ]
    }
   ],
   "source": [
    "import numpy as np\n",
    "\n",
    "def rmse(a, b): return np.sqrt(np.mean((a - b) ** 2, axis=0))\n",
    "def mae(a, b):  return np.mean(np.abs(a - b), axis=0)\n",
    "\n",
    "# Collect validation predictions\n",
    "model.eval()\n",
    "P_list, T_list = [], []\n",
    "with torch.no_grad():\n",
    "    for Xw, y in val_loader:\n",
    "        Xw = torch.nan_to_num(Xw, nan=0.0).to(device)\n",
    "        y  = torch.nan_to_num(y,  nan=0.0).to(device)\n",
    "        P_list.append(model(Xw).cpu().numpy())\n",
    "        T_list.append(y.cpu().numpy())\n",
    "\n",
    "P = np.concatenate(P_list, axis=0)   # normalized\n",
    "T = np.concatenate(T_list, axis=0)\n",
    "\n",
    "# Norm-space metrics\n",
    "m_rmse = rmse(P, T)\n",
    "m_mae  = mae(P, T)\n",
    "print(\"Per-feature (normalized) RMSE / MAE:\")\n",
    "for i, name in enumerate(FEATURES):\n",
    "    print(f\"- {name}: RMSE={m_rmse[i]:.4f} | MAE={m_mae[i]:.4f}\")\n",
    "\n",
    "# Physical units (de-normalize)\n",
    "mean = np.load(STATS_DIR / \"feat_mean.npy\")\n",
    "std  = np.load(STATS_DIR / \"feat_std.npy\")\n",
    "P_real = P * std + mean\n",
    "T_real = T * std + mean\n",
    "\n",
    "m_rmse_r = rmse(P_real, T_real)\n",
    "m_mae_r  = mae(P_real, T_real)\n",
    "\n",
    "print(\"\\nPer-feature (physical units) RMSE / MAE:\")\n",
    "for i, name in enumerate(FEATURES):\n",
    "    print(f\"- {name}: RMSE={m_rmse_r[i]:.4e} | MAE={m_mae_r[i]:.4e}\")\n"
   ]
  },
  {
   "cell_type": "markdown",
   "id": "6d2ccf69-3579-4ea7-90b0-430339f9cdd8",
   "metadata": {
    "tags": []
   },
   "source": [
    "cfg = {\n",
    "    \"model\": \"BlackHoleNet-v1\",\n",
    "    \"lr\": 1e-4,\n",
    "    \"batch_size\": 64,\n",
    "    \"epochs\": 50,\n",
    "    \"optimizer\": \"Adam\",\n",
    "    \"loss_fn\": \"MSELoss\",\n",
    "}\n",
    "\n",
    " Temporary dummy values just to test logging\n",
    "train_loss = 0.0123\n",
    "val_loss   = 0.0456\n",
    "rmse_phys  = [0.1, 0.2, 0.15]  # one per feature in FEATURES\n",
    "mae_phys   = [0.05, 0.1, 0.08] # one per feature in FEATURES\n",
    "\n"
   ]
  },
  {
   "cell_type": "markdown",
   "id": "52e58631-93f8-4b6d-a921-c8929ade1310",
   "metadata": {
    "tags": []
   },
   "source": [
    "log_experiment(cfg, train_loss, val_loss, rmse_phys, mae_phys)"
   ]
  },
  {
   "cell_type": "markdown",
   "id": "cd9d77eb-a51e-48df-8a24-f777712eb88f",
   "metadata": {
    "jp-MarkdownHeadingCollapsed": true,
    "tags": []
   },
   "source": [
    "### 8. Save checkpoint + simple rollout from a validation window\n",
    "---"
   ]
  },
  {
   "cell_type": "code",
   "execution_count": 9,
   "id": "7b074086-c552-41ad-9660-ee64d530d498",
   "metadata": {
    "tags": []
   },
   "outputs": [
    {
     "name": "stdout",
     "output_type": "stream",
     "text": [
      "[OK] Saved checkpoint → ../data/models/blackhole_evolution_lstm.pt\n",
      "[OK] Saved 5-step forecast example → ../data/forecasts/forecast_example.csv\n"
     ]
    },
    {
     "data": {
      "text/html": [
       "<div>\n",
       "<style scoped>\n",
       "    .dataframe tbody tr th:only-of-type {\n",
       "        vertical-align: middle;\n",
       "    }\n",
       "\n",
       "    .dataframe tbody tr th {\n",
       "        vertical-align: top;\n",
       "    }\n",
       "\n",
       "    .dataframe thead th {\n",
       "        text-align: right;\n",
       "    }\n",
       "</style>\n",
       "<table border=\"1\" class=\"dataframe\">\n",
       "  <thead>\n",
       "    <tr style=\"text-align: right;\">\n",
       "      <th></th>\n",
       "      <th>bh_mass</th>\n",
       "      <th>bh_acc</th>\n",
       "      <th>stellar_mass</th>\n",
       "      <th>sfr</th>\n",
       "      <th>halo_mass</th>\n",
       "      <th>vel_disp</th>\n",
       "    </tr>\n",
       "  </thead>\n",
       "  <tbody>\n",
       "    <tr>\n",
       "      <th>0</th>\n",
       "      <td>0.000079</td>\n",
       "      <td>0.0</td>\n",
       "      <td>0.025952</td>\n",
       "      <td>0.426170</td>\n",
       "      <td>5.380926</td>\n",
       "      <td>60.636135</td>\n",
       "    </tr>\n",
       "    <tr>\n",
       "      <th>1</th>\n",
       "      <td>0.000081</td>\n",
       "      <td>0.0</td>\n",
       "      <td>0.027456</td>\n",
       "      <td>0.447697</td>\n",
       "      <td>5.519687</td>\n",
       "      <td>61.472343</td>\n",
       "    </tr>\n",
       "    <tr>\n",
       "      <th>2</th>\n",
       "      <td>0.000083</td>\n",
       "      <td>0.0</td>\n",
       "      <td>0.029235</td>\n",
       "      <td>0.482392</td>\n",
       "      <td>5.688473</td>\n",
       "      <td>62.356297</td>\n",
       "    </tr>\n",
       "    <tr>\n",
       "      <th>3</th>\n",
       "      <td>0.000084</td>\n",
       "      <td>0.0</td>\n",
       "      <td>0.031157</td>\n",
       "      <td>0.525620</td>\n",
       "      <td>5.863894</td>\n",
       "      <td>63.232773</td>\n",
       "    </tr>\n",
       "    <tr>\n",
       "      <th>4</th>\n",
       "      <td>0.000085</td>\n",
       "      <td>0.0</td>\n",
       "      <td>0.033193</td>\n",
       "      <td>0.579827</td>\n",
       "      <td>6.059696</td>\n",
       "      <td>64.086121</td>\n",
       "    </tr>\n",
       "  </tbody>\n",
       "</table>\n",
       "</div>"
      ],
      "text/plain": [
       "    bh_mass  bh_acc  stellar_mass       sfr  halo_mass   vel_disp\n",
       "0  0.000079     0.0      0.025952  0.426170   5.380926  60.636135\n",
       "1  0.000081     0.0      0.027456  0.447697   5.519687  61.472343\n",
       "2  0.000083     0.0      0.029235  0.482392   5.688473  62.356297\n",
       "3  0.000084     0.0      0.031157  0.525620   5.863894  63.232773\n",
       "4  0.000085     0.0      0.033193  0.579827   6.059696  64.086121"
      ]
     },
     "execution_count": 9,
     "metadata": {},
     "output_type": "execute_result"
    }
   ],
   "source": [
    "import time\n",
    "from pathlib import Path\n",
    "\n",
    "# Ensure dirs exist\n",
    "MODEL_DIR.mkdir(parents=True, exist_ok=True)\n",
    "FORE_DIR.mkdir(parents=True, exist_ok=True)\n",
    "\n",
    "# Save checkpoint (include stats + feature names for portability)\n",
    "ckpt = {\n",
    "    \"ts\": time.strftime(\"%Y-%m-%d_%H-%M-%S\"),\n",
    "    \"state_dict\": model.state_dict(),\n",
    "    \"feature_names\": FEATURES,\n",
    "    \"mean\": mean,\n",
    "    \"std\":  std,\n",
    "    \"input_dim\": F,\n",
    "    \"window\": xb.shape[1],\n",
    "}\n",
    "ckpt_path = MODEL_DIR / \"blackhole_evolution_lstm.pt\"\n",
    "torch.save(ckpt, ckpt_path)\n",
    "print(f\"[OK] Saved checkpoint → {ckpt_path}\")\n",
    "\n",
    "# ---- Simple K-step rollout from a single val batch ----\n",
    "def to_norm(x_real):  return (x_real - mean) / (std + 1e-8)\n",
    "def to_real(x_norm):  return x_norm * std + mean\n",
    "\n",
    "@torch.no_grad()\n",
    "def rollout_from_window(model, Xw_real, K=5):\n",
    "    \"\"\"\n",
    "    Xw_real: [W, F] last W steps in real units.\n",
    "    Returns [K, F] future steps in real units via sliding window autoregression.\n",
    "    \"\"\"\n",
    "    W, F = Xw_real.shape\n",
    "    # start in normalized space\n",
    "    Xw = torch.tensor(to_norm(Xw_real), dtype=torch.float32, device=device).unsqueeze(0)  # [1,W,F]\n",
    "    preds = []\n",
    "    for _ in range(K):\n",
    "        y_norm = model(Xw)                      # [1,F]\n",
    "        y_real = to_real(y_norm.cpu().numpy().squeeze(0))\n",
    "        # clamp non-physical negatives to zero for nonnegative features\n",
    "        for j, name in enumerate(FEATURES):\n",
    "            if y_real[j] < 0:\n",
    "                y_real[j] = 0.0\n",
    "        preds.append(y_real.copy())\n",
    "        # slide window: drop oldest, append new (in norm space)\n",
    "        y_norm_np = y_norm.cpu().numpy().squeeze(0)\n",
    "        Xw_np = Xw.cpu().numpy()\n",
    "        Xw_np = np.concatenate([Xw_np[:, 1:, :], y_norm_np[None, None, :]], axis=1)\n",
    "        Xw = torch.tensor(Xw_np, dtype=torch.float32, device=device)\n",
    "    return np.vstack(preds)\n",
    "\n",
    "# Build one example rollout from a validation sample\n",
    "# Grab one (Xw_norm, y_norm) pair, convert window back to real units\n",
    "Xw_norm, _ = next(iter(val_loader))\n",
    "Xw_norm = Xw_norm[0].numpy()        # [W,F] normalized\n",
    "Xw_real = Xw_norm * std + mean      # back to physical units\n",
    "\n",
    "K = 5\n",
    "future = rollout_from_window(model, Xw_real, K=K)  # [K,F]\n",
    "\n",
    "# Save forecast CSV\n",
    "out_df = pd.DataFrame(future, columns=FEATURES)\n",
    "out_path = FORE_DIR / \"forecast_example.csv\"\n",
    "out_df.to_csv(out_path, index=False)\n",
    "print(f\"[OK] Saved {K}-step forecast example → {out_path}\")\n",
    "out_df.head()\n"
   ]
  },
  {
   "cell_type": "markdown",
   "id": "d9c31a70-09e6-4de1-ad0c-1ef1aa5530e1",
   "metadata": {
    "jp-MarkdownHeadingCollapsed": true,
    "tags": []
   },
   "source": [
    "### 9. Config (single source of truth)\n",
    "---"
   ]
  },
  {
   "cell_type": "markdown",
   "id": "b4434c23-6e5e-4700-a0fe-52586d9fdb3f",
   "metadata": {
    "tags": []
   },
   "source": [
    "CFG = dict(\n",
    "    WINDOW=8,\n",
    "    BATCH=64,\n",
    "    HIDDEN=128,\n",
    "    LAYERS=2,\n",
    "    DROPOUT=0.10,\n",
    "    LR=1e-4,\n",
    "    WD=1e-4,\n",
    "    EPOCHS=20,\n",
    "    CLIP=1.0,\n",
    "    SEED=42,\n",
    ")\n",
    "CFG\n"
   ]
  },
  {
   "cell_type": "markdown",
   "id": "55f138af-e132-4374-93c6-6da407b26d43",
   "metadata": {
    "tags": []
   },
   "source": [
    "### 10. Experiment logger -> ../data/experiments/metrics.csv\n",
    "---"
   ]
  },
  {
   "cell_type": "markdown",
   "id": "44187887-797f-44b3-a5bb-b92e211d0729",
   "metadata": {
    "tags": []
   },
   "source": [
    "from pathlib import Path\n",
    "import csv, time, json\n",
    "\n",
    "EXP_DIR = Path(\"../data/experiments\")\n",
    "EXP_DIR.mkdir(parents=True, exist_ok=True)\n",
    "EXP_CSV = EXP_DIR / \"metrics.csv\"\n",
    "\n",
    "def log_experiment(cfg, train_loss, val_loss, rmse_phys, mae_phys):\n",
    "    row = {\n",
    "        \"ts\": time.strftime(\"%Y-%m-%d_%H-%M-%S\"),\n",
    "        \"cfg\": json.dumps(cfg),\n",
    "        \"train_loss\": float(train_loss),\n",
    "        \"val_loss\": float(val_loss),\n",
    "        # store per-feature metrics as dicts\n",
    "        \"rmse_phys\": json.dumps({f: float(x) for f, x in zip(FEATURES, rmse_phys)}),\n",
    "        \"mae_phys\":  json.dumps({f: float(x) for f, x in zip(FEATURES, mae_phys)}),\n",
    "    }\n",
    "    write_header = not EXP_CSV.exists()\n",
    "    with open(EXP_CSV, \"a\", newline=\"\") as f:\n",
    "        w = csv.DictWriter(f, fieldnames=row.keys())\n",
    "        if write_header: w.writeheader()\n",
    "        w.writerow(row)\n",
    "    print(f\"[OK] Logged run → {EXP_CSV}\")\n"
   ]
  },
  {
   "cell_type": "markdown",
   "id": "3c7a2a6a-1011-4301-90c1-6c06d4207bc0",
   "metadata": {
    "jp-MarkdownHeadingCollapsed": true,
    "tags": []
   },
   "source": [
    "### 9. Results directories & small helpers\n",
    "---"
   ]
  },
  {
   "cell_type": "code",
   "execution_count": 24,
   "id": "21d517fa-5162-40f5-94a0-50a5966e403d",
   "metadata": {
    "tags": []
   },
   "outputs": [
    {
     "name": "stdout",
     "output_type": "stream",
     "text": [
      "[OK] Results will be saved in ../data/results\n"
     ]
    }
   ],
   "source": [
    "from pathlib import Path\n",
    "import numpy as np\n",
    "import pandas as pd\n",
    "import torch\n",
    "import matplotlib.pyplot as plt\n",
    "from sklearn.metrics import r2_score\n",
    "\n",
    "RESULTS_DIR = Path(\"../data/results\")\n",
    "FIG_DIR     = RESULTS_DIR / \"figures\"\n",
    "TAB_DIR     = RESULTS_DIR / \"tables\"\n",
    "for d in [RESULTS_DIR, FIG_DIR, TAB_DIR]:\n",
    "    d.mkdir(parents=True, exist_ok=True)\n",
    "\n",
    "FEATURES = [\"bh_mass\",\"bh_acc\",\"stellar_mass\",\"sfr\",\"halo_mass\",\"vel_disp\"]\n",
    "\n",
    "def rmse(a,b,axis=0): return np.sqrt(np.mean((a-b)**2, axis=axis))\n",
    "def mae(a,b,axis=0):  return np.mean(np.abs(a-b), axis=axis)\n",
    "\n",
    "print(f\"[OK] Results will be saved in {RESULTS_DIR}\")\n"
   ]
  },
  {
   "cell_type": "markdown",
   "id": "9c0e9041-1f0d-4b17-92b5-13e77e6da01c",
   "metadata": {
    "jp-MarkdownHeadingCollapsed": true,
    "tags": []
   },
   "source": [
    "### 10. Subhalo-wise splits for windowed dataset (train/val/test)\n",
    "---"
   ]
  },
  {
   "cell_type": "code",
   "execution_count": 25,
   "id": "66712080-44e9-4f4f-9063-08dfbc017b9e",
   "metadata": {
    "tags": []
   },
   "outputs": [
    {
     "name": "stdout",
     "output_type": "stream",
     "text": [
      "[OK] windows | train=12250  val=2625  test=2625\n"
     ]
    }
   ],
   "source": [
    "from torch.utils.data import Dataset, DataLoader\n",
    "import numpy as np\n",
    "\n",
    "# Reuse arrays/stats from earlier cells\n",
    "PROC_DIR = Path(\"../data/processed\")\n",
    "STATS_DIR = Path(\"../data/stats\")\n",
    "ids   = np.load(PROC_DIR / \"ids.npy\")\n",
    "snaps = np.load(PROC_DIR / \"snapshots.npy\")\n",
    "Xraw  = np.load(PROC_DIR / \"features.npy\").astype(np.float32)\n",
    "mean  = np.load(STATS_DIR / \"feat_mean.npy\")\n",
    "std   = np.load(STATS_DIR / \"feat_std.npy\")\n",
    "Xnorm = (Xraw - mean) / (std + 1e-8)\n",
    "Xnorm = np.nan_to_num(Xnorm, nan=0.0, posinf=0.0, neginf=0.0)\n",
    "\n",
    "WINDOW = 8  # keep consistent with training\n",
    "SEED   = 42\n",
    "rng    = np.random.default_rng(SEED)\n",
    "\n",
    "# Split IDs\n",
    "unique_ids = np.unique(ids)\n",
    "rng.shuffle(unique_ids)\n",
    "n = len(unique_ids)\n",
    "n_train = int(0.7 * n)\n",
    "n_val   = int(0.15 * n)\n",
    "train_ids = set(unique_ids[:n_train])\n",
    "val_ids   = set(unique_ids[n_train:n_train+n_val])\n",
    "test_ids  = set(unique_ids[n_train+n_val:])\n",
    "\n",
    "class BHWindowDataset(Dataset):\n",
    "    def __init__(self, ids, snaps, feats_norm, window, keep_ids):\n",
    "        self.samples = []\n",
    "        for sid in np.unique(ids):\n",
    "            if sid not in keep_ids:\n",
    "                continue\n",
    "            m = (ids == sid)\n",
    "            s = snaps[m]\n",
    "            x = feats_norm[m]\n",
    "            order = np.argsort(s)\n",
    "            x = x[order]\n",
    "            if len(x) <= window: \n",
    "                continue\n",
    "            for t in range(window, len(x)):\n",
    "                Xw = x[t-window:t, :]\n",
    "                y  = x[t, :]\n",
    "                if np.isnan(Xw).any() or np.isnan(y).any(): \n",
    "                    continue\n",
    "                self.samples.append((Xw.astype(np.float32), y.astype(np.float32)))\n",
    "\n",
    "    def __len__(self): return len(self.samples)\n",
    "    def __getitem__(self, i):\n",
    "        Xw, y = self.samples[i]\n",
    "        Xw = torch.from_numpy(Xw)\n",
    "        y  = torch.from_numpy(y)\n",
    "        Xw = torch.nan_to_num(Xw, nan=0.0)\n",
    "        y  = torch.nan_to_num(y,  nan=0.0)\n",
    "        return Xw, y\n",
    "\n",
    "# Build splits\n",
    "train_ds = BHWindowDataset(ids, snaps, Xnorm, WINDOW, train_ids)\n",
    "val_ds   = BHWindowDataset(ids, snaps, Xnorm, WINDOW, val_ids)\n",
    "test_ds  = BHWindowDataset(ids, snaps, Xnorm, WINDOW, test_ids)\n",
    "\n",
    "BATCH = 64\n",
    "train_loader = DataLoader(train_ds, batch_size=BATCH, shuffle=True)\n",
    "val_loader   = DataLoader(val_ds,   batch_size=BATCH, shuffle=False)\n",
    "test_loader  = DataLoader(test_ds,  batch_size=BATCH, shuffle=False)\n",
    "\n",
    "print(f\"[OK] windows | train={len(train_ds)}  val={len(val_ds)}  test={len(test_ds)}\")\n"
   ]
  },
  {
   "cell_type": "markdown",
   "id": "bbc1baba-6109-4b65-9164-079929b65dc0",
   "metadata": {
    "jp-MarkdownHeadingCollapsed": true,
    "tags": []
   },
   "source": [
    "### 11. Reload trained model and evaluate on TEST split\n",
    "---"
   ]
  },
  {
   "cell_type": "code",
   "execution_count": 26,
   "id": "3962a59d-b658-45da-b0b4-4c922edf255a",
   "metadata": {
    "tags": []
   },
   "outputs": [
    {
     "name": "stdout",
     "output_type": "stream",
     "text": [
      "[OK] Wrote: ../data/results/tables/metrics_test_per_feature.csv and ../data/results/tables/metrics_test_summary.csv\n"
     ]
    }
   ],
   "source": [
    "import torch.nn as nn\n",
    "\n",
    "MODEL_DIR = Path(\"../data/models\")\n",
    "CKPT_PATH = MODEL_DIR / \"blackhole_evolution_lstm.pt\"\n",
    "ckpt = torch.load(CKPT_PATH, map_location=\"cpu\")\n",
    "mean = ckpt[\"mean\"]; std = ckpt[\"std\"]\n",
    "\n",
    "# Rebuild the LSTM architecture exactly as trained\n",
    "class BHSequenceLSTM(nn.Module):\n",
    "    def __init__(self, input_size, hidden=128, layers=2, dropout=0.1, output_size=None):\n",
    "        super().__init__()\n",
    "        if output_size is None: output_size = input_size\n",
    "        self.lstm = nn.LSTM(input_size, hidden, num_layers=layers, batch_first=True, dropout=dropout if layers>1 else 0.0)\n",
    "        self.head = nn.Sequential(nn.Linear(hidden, hidden), nn.ReLU(), nn.Dropout(dropout), nn.Linear(hidden, output_size))\n",
    "    def forward(self, x):\n",
    "        h,_ = self.lstm(x)\n",
    "        return self.head(h[:, -1, :])\n",
    "\n",
    "F = len(FEATURES)\n",
    "model = BHSequenceLSTM(input_size=F, hidden=128, layers=2, dropout=0.1, output_size=F).to(device)\n",
    "model.load_state_dict(ckpt[\"state_dict\"])\n",
    "model.eval()\n",
    "\n",
    "# Collect test predictions\n",
    "P, T = [], []\n",
    "with torch.no_grad():\n",
    "    for Xw, y in test_loader:\n",
    "        Xw = torch.nan_to_num(Xw, nan=0.0).to(device)\n",
    "        y  = torch.nan_to_num(y,  nan=0.0).to(device)\n",
    "        P.append(model(Xw).cpu().numpy())\n",
    "        T.append(y.cpu().numpy())\n",
    "P = np.concatenate(P, axis=0)   # normalized\n",
    "T = np.concatenate(T, axis=0)\n",
    "\n",
    "# Baselines (normalized space)\n",
    "def baseline_persistence(X_loader):\n",
    "    preds, target = [], []\n",
    "    for Xw, y in X_loader:\n",
    "        preds.append(Xw[:, -1, :].numpy())  # last in window\n",
    "        target.append(y.numpy())\n",
    "    return np.concatenate(preds), np.concatenate(target)\n",
    "\n",
    "P_persist, T_ref = baseline_persistence(test_loader)\n",
    "assert T_ref.shape == T.shape\n",
    "\n",
    "# Metrics — normalized\n",
    "rmse_model_n = rmse(P, T)\n",
    "mae_model_n  = mae(P, T)\n",
    "rmse_pers_n  = rmse(P_persist, T)\n",
    "mae_pers_n   = mae(P_persist, T)\n",
    "\n",
    "# Metrics — physical units\n",
    "def denorm(Z): return Z * std + mean\n",
    "P_r, T_r, Pp_r = denorm(P), denorm(T), denorm(P_persist)\n",
    "rmse_model = rmse(P_r, T_r); mae_model = mae(P_r, T_r)\n",
    "rmse_pers  = rmse(Pp_r, T_r); mae_pers = mae(Pp_r, T_r)\n",
    "\n",
    "# R^2 per feature (physical)\n",
    "r2 = []\n",
    "for j in range(F):\n",
    "    r2.append(r2_score(T_r[:, j], P_r[:, j]))\n",
    "r2 = np.array(r2)\n",
    "\n",
    "# Save tables\n",
    "perfeat = pd.DataFrame({\n",
    "    \"feature\": FEATURES,\n",
    "    \"rmse_model\": rmse_model,\n",
    "    \"mae_model\":  mae_model,\n",
    "    \"r2_model\":   r2,\n",
    "    \"rmse_persist\": rmse_pers,\n",
    "    \"mae_persist\":  mae_pers,\n",
    "})\n",
    "perfeat.to_csv(TAB_DIR / \"metrics_test_per_feature.csv\", index=False)\n",
    "\n",
    "summary = pd.DataFrame({\n",
    "    \"rmse_model_mean\":[rmse_model.mean()],\n",
    "    \"rmse_persist_mean\":[rmse_pers.mean()],\n",
    "    \"mae_model_mean\":[mae_model.mean()],\n",
    "    \"mae_persist_mean\":[mae_pers.mean()],\n",
    "    \"r2_model_mean\":[r2.mean()]\n",
    "})\n",
    "summary.to_csv(TAB_DIR / \"metrics_test_summary.csv\", index=False)\n",
    "\n",
    "print(\"[OK] Wrote:\",\n",
    "      TAB_DIR / \"metrics_test_per_feature.csv\",\n",
    "      \"and\",\n",
    "      TAB_DIR / \"metrics_test_summary.csv\")\n"
   ]
  },
  {
   "cell_type": "markdown",
   "id": "dfb2b28e-d86a-401e-bbbd-83755c93fe29",
   "metadata": {
    "jp-MarkdownHeadingCollapsed": true,
    "tags": []
   },
   "source": [
    "### 12. Figures (saved to results/figures)\n",
    "---"
   ]
  },
  {
   "cell_type": "code",
   "execution_count": 27,
   "id": "a4792d44-610a-4584-b67d-2db9ce106984",
   "metadata": {
    "tags": []
   },
   "outputs": [
    {
     "name": "stdout",
     "output_type": "stream",
     "text": [
      "[OK] saved ../data/results/figures/rmse_bars_test.png\n",
      "[OK] saved ../data/results/figures/parity_test.png\n"
     ]
    },
    {
     "data": {
      "image/png": "[encoded data removed]",
      "text/plain": [
       "<Figure size 800x400 with 1 Axes>"
      ]
     },
     "metadata": {},
     "output_type": "display_data"
    },
    {
     "data": {
      "image/png": "[encoded data removed]",
      "text/plain": [
       "<Figure size 1200x800 with 6 Axes>"
      ]
     },
     "metadata": {},
     "output_type": "display_data"
    }
   ],
   "source": [
    "# (A) RMSE bars (model vs persistence) in physical units\n",
    "x = np.arange(F); width = 0.38\n",
    "plt.figure(figsize=(8,4))\n",
    "plt.bar(x - width/2, rmse_model, width, label=\"Model\")\n",
    "plt.bar(x + width/2, rmse_pers,  width, label=\"Persistence\")\n",
    "plt.xticks(x, FEATURES, rotation=30)\n",
    "plt.ylabel(\"RMSE (physical units)\")\n",
    "plt.title(\"Test RMSE by feature\")\n",
    "plt.legend()\n",
    "rmse_bar_path = FIG_DIR / \"rmse_bars_test.png\"\n",
    "plt.tight_layout(); plt.savefig(rmse_bar_path, dpi=200)\n",
    "print(f\"[OK] saved {rmse_bar_path}\")\n",
    "\n",
    "# (B) Parity plots (pred vs true) per feature\n",
    "cols = 3; rows = int(np.ceil(F/cols))\n",
    "plt.figure(figsize=(12, 8))\n",
    "for j in range(F):\n",
    "    ax = plt.subplot(rows, cols, j+1)\n",
    "    ax.scatter(T_r[:2000, j], P_r[:2000, j], s=4, alpha=0.5)\n",
    "    mn = min(T_r[:, j].min(), P_r[:, j].min()); mx = max(T_r[:, j].max(), P_r[:, j].max())\n",
    "    ax.plot([mn, mx], [mn, mx], lw=1)\n",
    "    ax.set_title(FEATURES[j]); ax.set_xlabel(\"True\"); ax.set_ylabel(\"Pred\")\n",
    "plt.tight_layout()\n",
    "parity_path = FIG_DIR / \"parity_test.png\"\n",
    "plt.savefig(parity_path, dpi=200)\n",
    "print(f\"[OK] saved {parity_path}\")\n"
   ]
  },
  {
   "cell_type": "markdown",
   "id": "d3294f1b-0a09-4bf3-9458-47f072f14f68",
   "metadata": {
    "jp-MarkdownHeadingCollapsed": true,
    "tags": []
   },
   "source": [
    "### 13. K-step rollout error (normalized) on TEST windows\n",
    "---"
   ]
  },
  {
   "cell_type": "code",
   "execution_count": 28,
   "id": "9ae80794-a5ad-4457-90b7-a21b5c16c21c",
   "metadata": {
    "tags": []
   },
   "outputs": [
    {
     "name": "stdout",
     "output_type": "stream",
     "text": [
      "[OK] wrote ../data/results/tables/rollout_k1_norm.csv\n"
     ]
    }
   ],
   "source": [
    "K = 5\n",
    "def rollout_batch_norm(model, Xseq):  # Xseq [B,W,F] normalized\n",
    "    B, W, F = Xseq.shape\n",
    "    x = Xseq[:, -1, :]\n",
    "    out = []\n",
    "    with torch.no_grad():\n",
    "        for _ in range(K):\n",
    "            y = model(torch.from_numpy(x[:, None, :]).float().to(device)).cpu().numpy()\n",
    "            out.append(y)\n",
    "            x = y\n",
    "    return np.stack(out, axis=1)  # [B,K,F]\n",
    "\n",
    "# collect a block of test windows (normalized) & the immediate next true step\n",
    "Xv, Yv = [], []\n",
    "for Xw, y in test_loader:\n",
    "    Xv.append(Xw.numpy()); Yv.append(y.numpy())\n",
    "Xv = np.concatenate(Xv); Yv = np.concatenate(Yv)\n",
    "\n",
    "Pr = rollout_batch_norm(model, Xv)  # [N,K,F]\n",
    "k1_rmse_n = rmse(Pr[:,0,:], Yv)     # first-step RMSE (norm)\n",
    "pd.DataFrame({\"feature\": FEATURES, \"rmse_k1_norm\": k1_rmse_n}).to_csv(TAB_DIR / \"rollout_k1_norm.csv\", index=False)\n",
    "print(\"[OK] wrote\", TAB_DIR / \"rollout_k1_norm.csv\")\n"
   ]
  },
  {
   "cell_type": "markdown",
   "id": "9ae99d8b-d59b-4b4e-aa08-53a1515e2efa",
   "metadata": {
    "jp-MarkdownHeadingCollapsed": true,
    "tags": []
   },
   "source": [
    "### 14. Write a concise results.md with key numbers for the paper\n",
    "---"
   ]
  },
  {
   "cell_type": "code",
   "execution_count": 29,
   "id": "a4dfc986-a99a-4b54-98ae-10cd78c59738",
   "metadata": {
    "tags": []
   },
   "outputs": [
    {
     "name": "stdout",
     "output_type": "stream",
     "text": [
      "[OK] wrote ../data/results/results.md\n"
     ]
    }
   ],
   "source": [
    "sum_df = pd.read_csv(TAB_DIR / \"metrics_test_summary.csv\")\n",
    "pf_df  = pd.read_csv(TAB_DIR / \"metrics_test_per_feature.csv\")\n",
    "\n",
    "lines = []\n",
    "lines.append(\"# Results (Test Set)\\n\")\n",
    "lines.append(f\"- Mean RMSE (model): {sum_df['rmse_model_mean'][0]:.3e}\")\n",
    "lines.append(f\"- Mean RMSE (persistence): {sum_df['rmse_persist_mean'][0]:.3e}\")\n",
    "lines.append(f\"- Mean MAE (model): {sum_df['mae_model_mean'][0]:.3e}\")\n",
    "lines.append(f\"- Mean R² (model): {sum_df['r2_model_mean'][0]:.3f}\\n\")\n",
    "\n",
    "lines.append(\"## Per-feature metrics\\n\")\n",
    "for _, r in pf_df.iterrows():\n",
    "    lines.append(\n",
    "        f\"- **{r['feature']}**: RMSE={r['rmse_model']:.3e} (persist {r['rmse_persist']:.3e}), \"\n",
    "        f\"MAE={r['mae_model']:.3e}, R²={r['r2_model']:.3f}\"\n",
    "    )\n",
    "\n",
    "lines.append(\"\\n## Figures\\n\")\n",
    "lines.append(f\"- RMSE bars: `results/figures/{rmse_bar_path.name}`\")\n",
    "lines.append(f\"- Parity plots: `results/figures/{parity_path.name}`\")\n",
    "\n",
    "out_md = RESULTS_DIR / \"results.md\"\n",
    "out_md.write_text(\"\\n\".join(lines))\n",
    "print(f\"[OK] wrote {out_md}\")\n"
   ]
  },
  {
   "cell_type": "code",
   "execution_count": null,
   "id": "fd591e40-6d3b-44e1-889b-74483e62d4c7",
   "metadata": {},
   "outputs": [],
   "source": []
  }
 ],
 "metadata": {
  "kernelspec": {
   "display_name": "Python 3 (ipykernel)",
   "language": "python",
   "name": "python3"
  },
  "language_info": {
   "codemirror_mode": {
    "name": "ipython",
    "version": 3
   },
   "file_extension": ".py",
   "mimetype": "text/x-python",
   "name": "python",
   "nbconvert_exporter": "python",
   "pygments_lexer": "ipython3",
   "version": "3.11.4"
  }
 },
 "nbformat": 4,
 "nbformat_minor": 5
}
