{
 "cells": [
  {
   "cell_type": "markdown",
   "id": "f93fa5c2-e076-4ee0-a165-53f815c620fe",
   "metadata": {},
   "source": [
    "## Black Hole Evolution Dataset (TNG100)\n",
    "This notebook builds a dataset for modeling the evolution of black holes using the IllustrisTNG100 simulation (snapshots 18–33). The dataset will be used to train an LSTM to predict future black hole properties based on their past evolution."
   ]
  },
  {
   "cell_type": "markdown",
   "id": "6c8e4222-2bed-44ea-88e0-db6d10fc79a9",
   "metadata": {
    "jp-MarkdownHeadingCollapsed": true,
    "tags": []
   },
   "source": [
    "### 1. Environment Setup\n",
    "---\n",
    "Import necessary libraries and configure global settings for reproducibility.\n"
   ]
  },
  {
   "cell_type": "code",
   "execution_count": 1,
   "id": "8f86d1a3-9299-473f-9598-c4dc2e2a5f47",
   "metadata": {
    "tags": []
   },
   "outputs": [
    {
     "name": "stdout",
     "output_type": "stream",
     "text": [
      "NumPy version: 1.24.3\n",
      "PyTorch version: 2.0.1+cpu\n"
     ]
    }
   ],
   "source": [
    "import requests\n",
    "import numpy as np\n",
    "import torch\n",
    "import random\n",
    "\n",
    "random.seed(42)  # Ensures reproducible random sampling later\n",
    "\n",
    "print(f\"NumPy version: {np.__version__}\")\n",
    "print(f\"PyTorch version: {torch.__version__}\")"
   ]
  },
  {
   "cell_type": "markdown",
   "id": "12afb858-bb7a-428c-8043-7ebc33b56266",
   "metadata": {
    "tags": []
   },
   "source": [
    "### 2. Data Access & Preprocessing\n",
    "---"
   ]
  },
  {
   "cell_type": "markdown",
   "id": "32112d15-0f14-4247-beca-542772badaf3",
   "metadata": {
    "jp-MarkdownHeadingCollapsed": true,
    "tags": []
   },
   "source": [
    "#### 2.1 Load Subhalo Catalog (Snapshot 33)\n",
    "---\n",
    "We begin by selecting black-hole-hosting subhalos at snapshot 33 (z ≈ 0, present day)."
   ]
  },
  {
   "cell_type": "code",
   "execution_count": 2,
   "id": "50a07782-a3fa-4ffa-8613-53045e98db09",
   "metadata": {
    "tags": []
   },
   "outputs": [
    {
     "name": "stdout",
     "output_type": "stream",
     "text": [
      "Total subhalos with black holes: 29415\n"
     ]
    }
   ],
   "source": [
    "import illustris_python as il\n",
    "\n",
    "basePath = \"/home/tnguser/sims.TNG/TNG100-1/output\" # Adjust based on Environment\n",
    "\n",
    "subhalos = il.groupcat.loadSubhalos(\n",
    "    basePath, \n",
    "    33, \n",
    "    fields=['SubhaloBHMass', 'SubhaloMassType']\n",
    ")\n",
    "\n",
    "bh_mass = subhalos['SubhaloBHMass']\n",
    "stellar_mass = subhalos['SubhaloMassType'][:, 4]  # Type 4 = stellar component\n",
    "\n",
    "bh_mask = bh_mass > 0\n",
    "print(f\"Total subhalos with black holes: {bh_mask.sum()}\")"
   ]
  },
  {
   "cell_type": "markdown",
   "id": "865d0ab1-776b-447e-937e-c90235a83c95",
   "metadata": {
    "jp-MarkdownHeadingCollapsed": true,
    "tags": []
   },
   "source": [
    "#### 2.2 Extract Black Hole Evolutionary Histories\n",
    "---\n",
    "Trace each black hole’s most bound progenitor branch through merger trees and store time-ordered properties across snapshots 18-33.\n"
   ]
  },
  {
   "cell_type": "code",
   "execution_count": 3,
   "id": "78f32a09-d3bb-40a1-8137-6ffb6719b173",
   "metadata": {
    "tags": []
   },
   "outputs": [
    {
     "name": "stdout",
     "output_type": "stream",
     "text": [
      "Warning, empty return. Subhalo [18022] at snapNum [33] not in tree.\n",
      "Warning, empty return. Subhalo [19588] at snapNum [33] not in tree.\n",
      "Warning, empty return. Subhalo [39449] at snapNum [33] not in tree.\n",
      "Warning, empty return. Subhalo [39547] at snapNum [33] not in tree.\n",
      "Warning, empty return. Subhalo [138375] at snapNum [33] not in tree.\n",
      "Warning, empty return. Subhalo [147013] at snapNum [33] not in tree.\n",
      "Checked 5000/29415 subhalos...\n",
      "Checked 10000/29415 subhalos...\n",
      "Checked 15000/29415 subhalos...\n",
      "Checked 20000/29415 subhalos...\n",
      "Checked 25000/29415 subhalos...\n",
      "Black holes with ≥90% snapshot coverage: 29232\n"
     ]
    }
   ],
   "source": [
    "tree_base = f\"{basePath}/postprocessing/trees/sublink\"\n",
    "\n",
    "full_histories = {}\n",
    "bh_list = [i for i, has_bh in enumerate(bh_mask) if has_bh]\n",
    "required_snaps = set(range(18, 34))\n",
    "\n",
    "for count, sub_id in enumerate(bh_list, start=1):\n",
    "    try:\n",
    "        tree = il.sublink.loadTree(\n",
    "            basePath,\n",
    "            33,\n",
    "            sub_id,\n",
    "            fields=[\n",
    "                'SubhaloID',\n",
    "                'SnapNum',\n",
    "                'SubhaloBHMass',\n",
    "                'SubhaloBHMdot',\n",
    "                'SubhaloMassType',\n",
    "                'SubhaloSFR',\n",
    "                'SubhaloVelDisp'\n",
    "            ],\n",
    "            onlyMPB=True\n",
    "        )\n",
    "\n",
    "        mask = (tree['SnapNum'] <= 32) & (tree['SnapNum'] >= 18)\n",
    "        snaps = set(tree['SnapNum'][mask])\n",
    "\n",
    "        # Keep only if ≥90% snapshot coverage\n",
    "        if len(snaps & required_snaps) >= int(0.9 * len(required_snaps)):\n",
    "            sorted_idx = np.argsort(tree['SnapNum'][mask])\n",
    "            full_histories[sub_id] = {\n",
    "                \"snap_nums\": tree['SnapNum'][mask][sorted_idx].tolist(),\n",
    "                \"bh_mass\": tree['SubhaloBHMass'][mask][sorted_idx].tolist(),\n",
    "                \"bh_accretion\": tree['SubhaloBHMdot'][mask][sorted_idx].tolist(),\n",
    "                \"stellar_mass\": tree['SubhaloMassType'][mask][sorted_idx, 4].tolist(),\n",
    "                \"halo_mass\": tree['SubhaloMassType'][mask][sorted_idx].sum(axis=1).tolist(),\n",
    "                \"sfr\": tree['SubhaloSFR'][mask][sorted_idx].tolist(),\n",
    "                \"vel_dispersion\": tree['SubhaloVelDisp'][mask][sorted_idx].tolist()\n",
    "            }\n",
    "    except:\n",
    "        continue\n",
    "\n",
    "    if count % 5000 == 0:\n",
    "        print(f\"Checked {count}/{len(bh_list)} subhalos...\", flush=True)\n",
    "\n",
    "print(f\"Black holes with ≥90% snapshot coverage: {len(full_histories)}\")\n"
   ]
  },
  {
   "cell_type": "markdown",
   "id": "f00c3f48-ff21-4ec6-b8e8-7bddf24605fd",
   "metadata": {
    "jp-MarkdownHeadingCollapsed": true,
    "tags": []
   },
   "source": [
    "#### 2.3 Sample and Verify Black Holes\n",
    "---\n",
    "Randomly select 2,500 black holes with ≥90% snapshot coverage \n",
    "and inspect one example to confirm that time-series properties \n",
    "were extracted correctly."
   ]
  },
  {
   "cell_type": "code",
   "execution_count": 4,
   "id": "84c22993-39b3-40b4-83ec-2dc7f0461641",
   "metadata": {
    "tags": []
   },
   "outputs": [
    {
     "name": "stdout",
     "output_type": "stream",
     "text": [
      "Sampled 2500 black holes.\n"
     ]
    }
   ],
   "source": [
    "sampled_ids = random.sample(list(full_histories.keys()), 2500)\n",
    "print(f\"Sampled {len(sampled_ids)} black holes.\")\n"
   ]
  },
  {
   "cell_type": "code",
   "execution_count": 5,
   "id": "a3795aed-5727-4d63-b73b-a614d85cd68e",
   "metadata": {
    "tags": []
   },
   "outputs": [
    {
     "name": "stdout",
     "output_type": "stream",
     "text": [
      "Inspecting black hole ID: 163461\n",
      "Snapshots: [18, 19, 20, 21, 22, 23, 24, 25, 26, 27, 28, 29, 30, 31, 32]\n",
      "BH Mass Sequence: [9.446660260437056e-05, 9.979942115023732e-05, 0.00010838297748705372, 0.00012950033124070615, 0.00015543214976787567, 0.00019729389168787748, 0.0002733152941800654, 0.0005854691262356937, 0.0008536182576790452, 0.0012909594224765897, 0.0018033889355137944, 0.004496393725275993, 0.010067204013466835, 0.012057174928486347, 0.013648551888763905]\n"
     ]
    }
   ],
   "source": [
    "# Verification\n",
    "check_id = random.choice(sampled_ids)\n",
    "print(f\"Inspecting black hole ID: {check_id}\")\n",
    "print(\"Snapshots:\", full_histories[check_id][\"snap_nums\"])\n",
    "print(\"BH Mass Sequence:\", full_histories[check_id][\"bh_mass\"])\n"
   ]
  },
  {
   "cell_type": "markdown",
   "id": "018ab118-ab5c-4cd5-9f15-3b286146024c",
   "metadata": {
    "tags": []
   },
   "source": [
    "#### 2.4 Prepare Dataset for Machine Learning\n",
    "---\n",
    "Structure the extracted properties into a consistent time-series format and save as a CSV for future training."
   ]
  },
  {
   "cell_type": "code",
   "execution_count": 6,
   "id": "65f6625b-5b36-487c-b095-272336a193ee",
   "metadata": {
    "tags": []
   },
   "outputs": [
    {
     "name": "stdout",
     "output_type": "stream",
     "text": [
      "Dataset saved: ../data/black_hole_evolution_tng100.csv\n",
      "Shape: 2500 black holes, 91 features\n"
     ]
    },
    {
     "data": {
      "text/html": [
       "<div>\n",
       "<style scoped>\n",
       "    .dataframe tbody tr th:only-of-type {\n",
       "        vertical-align: middle;\n",
       "    }\n",
       "\n",
       "    .dataframe tbody tr th {\n",
       "        vertical-align: top;\n",
       "    }\n",
       "\n",
       "    .dataframe thead th {\n",
       "        text-align: right;\n",
       "    }\n",
       "</style>\n",
       "<table border=\"1\" class=\"dataframe\">\n",
       "  <thead>\n",
       "    <tr style=\"text-align: right;\">\n",
       "      <th></th>\n",
       "      <th>subhalo_id</th>\n",
       "      <th>bh_mass_snap18</th>\n",
       "      <th>bh_acc_snap18</th>\n",
       "      <th>stellar_mass_snap18</th>\n",
       "      <th>sfr_snap18</th>\n",
       "      <th>halo_mass_snap18</th>\n",
       "      <th>vel_disp_snap18</th>\n",
       "      <th>bh_mass_snap19</th>\n",
       "      <th>bh_acc_snap19</th>\n",
       "      <th>stellar_mass_snap19</th>\n",
       "      <th>...</th>\n",
       "      <th>stellar_mass_snap31</th>\n",
       "      <th>sfr_snap31</th>\n",
       "      <th>halo_mass_snap31</th>\n",
       "      <th>vel_disp_snap31</th>\n",
       "      <th>bh_mass_snap32</th>\n",
       "      <th>bh_acc_snap32</th>\n",
       "      <th>stellar_mass_snap32</th>\n",
       "      <th>sfr_snap32</th>\n",
       "      <th>halo_mass_snap32</th>\n",
       "      <th>vel_disp_snap32</th>\n",
       "    </tr>\n",
       "  </thead>\n",
       "  <tbody>\n",
       "    <tr>\n",
       "      <th>0</th>\n",
       "      <td>386132</td>\n",
       "      <td>0.0</td>\n",
       "      <td>0.0</td>\n",
       "      <td>0.000905</td>\n",
       "      <td>0.060235</td>\n",
       "      <td>0.789287</td>\n",
       "      <td>39.962952</td>\n",
       "      <td>0.0</td>\n",
       "      <td>0.0</td>\n",
       "      <td>0.001301</td>\n",
       "      <td>...</td>\n",
       "      <td>0.022721</td>\n",
       "      <td>0.486914</td>\n",
       "      <td>5.505792</td>\n",
       "      <td>55.783905</td>\n",
       "      <td>0.000084</td>\n",
       "      <td>0.000005</td>\n",
       "      <td>0.028393</td>\n",
       "      <td>0.423227</td>\n",
       "      <td>6.073032</td>\n",
       "      <td>55.394325</td>\n",
       "    </tr>\n",
       "    <tr>\n",
       "      <th>1</th>\n",
       "      <td>130735</td>\n",
       "      <td>0.0</td>\n",
       "      <td>0.0</td>\n",
       "      <td>0.002902</td>\n",
       "      <td>0.103475</td>\n",
       "      <td>1.530316</td>\n",
       "      <td>47.719479</td>\n",
       "      <td>0.0</td>\n",
       "      <td>0.0</td>\n",
       "      <td>0.003578</td>\n",
       "      <td>...</td>\n",
       "      <td>0.043805</td>\n",
       "      <td>0.301828</td>\n",
       "      <td>3.783332</td>\n",
       "      <td>55.236423</td>\n",
       "      <td>0.000118</td>\n",
       "      <td>0.000025</td>\n",
       "      <td>0.045069</td>\n",
       "      <td>0.325648</td>\n",
       "      <td>3.724669</td>\n",
       "      <td>53.772259</td>\n",
       "    </tr>\n",
       "    <tr>\n",
       "      <th>2</th>\n",
       "      <td>37402</td>\n",
       "      <td>0.0</td>\n",
       "      <td>0.0</td>\n",
       "      <td>0.001395</td>\n",
       "      <td>0.080354</td>\n",
       "      <td>0.221330</td>\n",
       "      <td>34.087959</td>\n",
       "      <td>0.0</td>\n",
       "      <td>0.0</td>\n",
       "      <td>0.003692</td>\n",
       "      <td>...</td>\n",
       "      <td>0.053857</td>\n",
       "      <td>1.459296</td>\n",
       "      <td>1.262915</td>\n",
       "      <td>55.320915</td>\n",
       "      <td>0.000110</td>\n",
       "      <td>0.000041</td>\n",
       "      <td>0.065400</td>\n",
       "      <td>1.443447</td>\n",
       "      <td>1.258591</td>\n",
       "      <td>50.473103</td>\n",
       "    </tr>\n",
       "  </tbody>\n",
       "</table>\n",
       "<p>3 rows × 91 columns</p>\n",
       "</div>"
      ],
      "text/plain": [
       "   subhalo_id  bh_mass_snap18  bh_acc_snap18  stellar_mass_snap18  sfr_snap18  \\\n",
       "0      386132             0.0            0.0             0.000905    0.060235   \n",
       "1      130735             0.0            0.0             0.002902    0.103475   \n",
       "2       37402             0.0            0.0             0.001395    0.080354   \n",
       "\n",
       "   halo_mass_snap18  vel_disp_snap18  bh_mass_snap19  bh_acc_snap19  \\\n",
       "0          0.789287        39.962952             0.0            0.0   \n",
       "1          1.530316        47.719479             0.0            0.0   \n",
       "2          0.221330        34.087959             0.0            0.0   \n",
       "\n",
       "   stellar_mass_snap19  ...  stellar_mass_snap31  sfr_snap31  \\\n",
       "0             0.001301  ...             0.022721    0.486914   \n",
       "1             0.003578  ...             0.043805    0.301828   \n",
       "2             0.003692  ...             0.053857    1.459296   \n",
       "\n",
       "   halo_mass_snap31  vel_disp_snap31  bh_mass_snap32  bh_acc_snap32  \\\n",
       "0          5.505792        55.783905        0.000084       0.000005   \n",
       "1          3.783332        55.236423        0.000118       0.000025   \n",
       "2          1.262915        55.320915        0.000110       0.000041   \n",
       "\n",
       "   stellar_mass_snap32  sfr_snap32  halo_mass_snap32  vel_disp_snap32  \n",
       "0             0.028393    0.423227          6.073032        55.394325  \n",
       "1             0.045069    0.325648          3.724669        53.772259  \n",
       "2             0.065400    1.443447          1.258591        50.473103  \n",
       "\n",
       "[3 rows x 91 columns]"
      ]
     },
     "execution_count": 6,
     "metadata": {},
     "output_type": "execute_result"
    }
   ],
   "source": [
    "import pandas as pd\n",
    "import os\n",
    "\n",
    "# Ensure project-specific data directory exists (relative to notebooks folder)\n",
    "os.makedirs(\"../data\", exist_ok=True)\n",
    "\n",
    "data_rows = []\n",
    "for sub_id in sampled_ids:\n",
    "    bh = full_histories[sub_id]\n",
    "    row = {\"subhalo_id\": sub_id}\n",
    "    for i, snap in enumerate(bh[\"snap_nums\"]):\n",
    "        row[f\"bh_mass_snap{snap}\"] = bh[\"bh_mass\"][i]\n",
    "        row[f\"bh_acc_snap{snap}\"] = bh[\"bh_accretion\"][i]\n",
    "        row[f\"stellar_mass_snap{snap}\"] = bh[\"stellar_mass\"][i]\n",
    "        row[f\"sfr_snap{snap}\"] = bh[\"sfr\"][i]\n",
    "        row[f\"halo_mass_snap{snap}\"] = bh[\"halo_mass\"][i]\n",
    "        row[f\"vel_disp_snap{snap}\"] = bh[\"vel_dispersion\"][i]\n",
    "    data_rows.append(row)\n",
    "\n",
    "ml_dataset = pd.DataFrame(data_rows)\n",
    "\n",
    "# Save CSV in black_hole_evolution/data\n",
    "csv_path = \"../data/black_hole_evolution_tng100.csv\"\n",
    "ml_dataset.to_csv(csv_path, index=False)\n",
    "\n",
    "print(f\"Dataset saved: {csv_path}\")\n",
    "print(f\"Shape: {ml_dataset.shape[0]} black holes, {ml_dataset.shape[1]} features\")\n",
    "ml_dataset.head(3)\n"
   ]
  }
 ],
 "metadata": {
  "kernelspec": {
   "display_name": "Python 3 (ipykernel)",
   "language": "python",
   "name": "python3"
  },
  "language_info": {
   "codemirror_mode": {
    "name": "ipython",
    "version": 3
   },
   "file_extension": ".py",
   "mimetype": "text/x-python",
   "name": "python",
   "nbconvert_exporter": "python",
   "pygments_lexer": "ipython3",
   "version": "3.11.4"
  }
 },
 "nbformat": 4,
 "nbformat_minor": 5
}
