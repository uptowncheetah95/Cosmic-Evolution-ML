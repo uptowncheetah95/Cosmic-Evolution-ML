{
 "cells": [
  {
   "cell_type": "markdown",
   "id": "f93fa5c2-e076-4ee0-a165-53f815c620fe",
   "metadata": {},
   "source": [
    "## Black Hole Evolution Dataset (TNG100)\n",
    "This notebook builds a dataset for modeling the evolution of black holes using the IllustrisTNG100 simulation (snapshots 18–33). The dataset will be used to train an LSTM to predict future black hole properties based on their past evolution."
   ]
  },
  {
   "cell_type": "markdown",
   "id": "6c8e4222-2bed-44ea-88e0-db6d10fc79a9",
   "metadata": {
    "jp-MarkdownHeadingCollapsed": true,
    "tags": []
   },
   "source": [
    "### 1. Environment Setup\n",
    "---\n",
    "Import necessary libraries and configure global settings for reproducibility.\n"
   ]
  },
  {
   "cell_type": "code",
   "execution_count": 1,
   "id": "8f86d1a3-9299-473f-9598-c4dc2e2a5f47",
   "metadata": {
    "tags": []
   },
   "outputs": [
    {
     "name": "stdout",
     "output_type": "stream",
     "text": [
      "NumPy version: 1.24.3\n",
      "PyTorch version: 2.0.1+cpu\n"
     ]
    }
   ],
   "source": [
    "import requests\n",
    "import numpy as np\n",
    "import torch\n",
    "import random\n",
    "\n",
    "random.seed(42)  # Ensures reproducible random sampling later\n",
    "\n",
    "print(f\"NumPy version: {np.__version__}\")\n",
    "print(f\"PyTorch version: {torch.__version__}\")"
   ]
  },
  {
   "cell_type": "markdown",
   "id": "12afb858-bb7a-428c-8043-7ebc33b56266",
   "metadata": {
    "tags": []
   },
   "source": [
    "### 2. Data Access & Preprocessing\n",
    "---"
   ]
  },
  {
   "cell_type": "markdown",
   "id": "32112d15-0f14-4247-beca-542772badaf3",
   "metadata": {
    "jp-MarkdownHeadingCollapsed": true,
    "tags": []
   },
   "source": [
    "#### 2.1 Load Subhalo Catalog (Snapshot 33)\n",
    "---\n",
    "We begin by selecting black-hole-hosting subhalos at snapshot 33 (z ≈ 0, present day)."
   ]
  },
  {
   "cell_type": "code",
   "execution_count": 2,
   "id": "50a07782-a3fa-4ffa-8613-53045e98db09",
   "metadata": {
    "tags": []
   },
   "outputs": [
    {
     "name": "stdout",
     "output_type": "stream",
     "text": [
      "Total subhalos with black holes: 29415\n"
     ]
    }
   ],
   "source": [
    "import illustris_python as il\n",
    "\n",
    "basePath = \"/home/tnguser/sims.TNG/TNG100-1/output\" # Adjust based on Environment\n",
    "\n",
    "subhalos = il.groupcat.loadSubhalos(\n",
    "    basePath, \n",
    "    33, \n",
    "    fields=['SubhaloBHMass', 'SubhaloMassType']\n",
    ")\n",
    "\n",
    "bh_mass = subhalos['SubhaloBHMass']\n",
    "stellar_mass = subhalos['SubhaloMassType'][:, 4]  # Type 4 = stellar component\n",
    "\n",
    "bh_mask = bh_mass > 0\n",
    "print(f\"Total subhalos with black holes: {bh_mask.sum()}\")"
   ]
  },
  {
   "cell_type": "markdown",
   "id": "865d0ab1-776b-447e-937e-c90235a83c95",
   "metadata": {
    "jp-MarkdownHeadingCollapsed": true,
    "tags": []
   },
   "source": [
    "#### 2.2 Extract Black Hole Evolutionary Histories\n",
    "---\n",
    "Trace each black hole’s most bound progenitor branch through merger trees and store time-ordered properties across snapshots 18-33.\n"
   ]
  },
  {
   "cell_type": "code",
   "execution_count": 3,
   "id": "78f32a09-d3bb-40a1-8137-6ffb6719b173",
   "metadata": {
    "tags": []
   },
   "outputs": [
    {
     "name": "stdout",
     "output_type": "stream",
     "text": [
      "Warning, empty return. Subhalo [18022] at snapNum [33] not in tree.\n",
      "Warning, empty return. Subhalo [19588] at snapNum [33] not in tree.\n",
      "Warning, empty return. Subhalo [39449] at snapNum [33] not in tree.\n",
      "Warning, empty return. Subhalo [39547] at snapNum [33] not in tree.\n",
      "Warning, empty return. Subhalo [138375] at snapNum [33] not in tree.\n",
      "Warning, empty return. Subhalo [147013] at snapNum [33] not in tree.\n",
      "Checked 5000/29415 subhalos...\n",
      "Checked 10000/29415 subhalos...\n",
      "Checked 15000/29415 subhalos...\n",
      "Checked 20000/29415 subhalos...\n",
      "Checked 25000/29415 subhalos...\n",
      "Black holes with ≥90% snapshot coverage: 29232\n"
     ]
    }
   ],
   "source": [
    "tree_base = f\"{basePath}/postprocessing/trees/sublink\"\n",
    "\n",
    "full_histories = {}\n",
    "bh_list = [i for i, has_bh in enumerate(bh_mask) if has_bh]\n",
    "required_snaps = set(range(18, 34))\n",
    "\n",
    "for count, sub_id in enumerate(bh_list, start=1):\n",
    "    try:\n",
    "        tree = il.sublink.loadTree(\n",
    "            basePath,\n",
    "            33,\n",
    "            sub_id,\n",
    "            fields=[\n",
    "                'SubhaloID',\n",
    "                'SnapNum',\n",
    "                'SubhaloBHMass',\n",
    "                'SubhaloBHMdot',\n",
    "                'SubhaloMassType',\n",
    "                'SubhaloSFR',\n",
    "                'SubhaloVelDisp'\n",
    "            ],\n",
    "            onlyMPB=True\n",
    "        )\n",
    "\n",
    "        mask = (tree['SnapNum'] <= 32) & (tree['SnapNum'] >= 18)\n",
    "        snaps = set(tree['SnapNum'][mask])\n",
    "\n",
    "        # Keep only if ≥90% snapshot coverage\n",
    "        if len(snaps & required_snaps) >= int(0.9 * len(required_snaps)):\n",
    "            sorted_idx = np.argsort(tree['SnapNum'][mask])\n",
    "            full_histories[sub_id] = {\n",
    "                \"snap_nums\": tree['SnapNum'][mask][sorted_idx].tolist(),\n",
    "                \"bh_mass\": tree['SubhaloBHMass'][mask][sorted_idx].tolist(),\n",
    "                \"bh_accretion\": tree['SubhaloBHMdot'][mask][sorted_idx].tolist(),\n",
    "                \"stellar_mass\": tree['SubhaloMassType'][mask][sorted_idx, 4].tolist(),\n",
    "                \"halo_mass\": tree['SubhaloMassType'][mask][sorted_idx].sum(axis=1).tolist(),\n",
    "                \"sfr\": tree['SubhaloSFR'][mask][sorted_idx].tolist(),\n",
    "                \"vel_dispersion\": tree['SubhaloVelDisp'][mask][sorted_idx].tolist()\n",
    "            }\n",
    "    except:\n",
    "        continue\n",
    "\n",
    "    if count % 5000 == 0:\n",
    "        print(f\"Checked {count}/{len(bh_list)} subhalos...\", flush=True)\n",
    "\n",
    "print(f\"Black holes with ≥90% snapshot coverage: {len(full_histories)}\")\n"
   ]
  },
  {
   "cell_type": "markdown",
   "id": "f00c3f48-ff21-4ec6-b8e8-7bddf24605fd",
   "metadata": {
    "jp-MarkdownHeadingCollapsed": true,
    "tags": []
   },
   "source": [
    "#### 2.3 Sample and Verify Black Holes\n",
    "---\n",
    "Randomly select 2,500 black holes with ≥90% snapshot coverage \n",
    "and inspect one example to confirm that time-series properties \n",
    "were extracted correctly."
   ]
  },
  {
   "cell_type": "code",
   "execution_count": 7,
   "id": "84c22993-39b3-40b4-83ec-2dc7f0461641",
   "metadata": {
    "tags": []
   },
   "outputs": [
    {
     "name": "stdout",
     "output_type": "stream",
     "text": [
      "Sampled 2500 black holes.\n"
     ]
    }
   ],
   "source": [
    "sampled_ids = random.sample(list(full_histories.keys()), 2500)\n",
    "print(f\"Sampled {len(sampled_ids)} black holes.\")\n"
   ]
  },
  {
   "cell_type": "code",
   "execution_count": 10,
   "id": "a3795aed-5727-4d63-b73b-a614d85cd68e",
   "metadata": {
    "tags": []
   },
   "outputs": [
    {
     "name": "stdout",
     "output_type": "stream",
     "text": [
      "Inspecting black hole ID: 75269\n",
      "Snapshots: [18, 19, 20, 21, 22, 23, 24, 25, 26, 27, 28, 29, 30, 31, 32]\n",
      "BH Mass Sequence: [8.121159771690145e-05, 8.275827713077888e-05, 8.48497002152726e-05, 8.63102322909981e-05, 8.904204878490418e-05, 9.209934069076553e-05, 9.655424946686253e-05, 0.0001013716246234253, 0.00010310822835890576, 0.00010600891255307943, 0.00010999599908245727, 0.00011538074613781646, 0.00012215181777719408, 0.00012952186807524413, 0.00014285089855547994]\n"
     ]
    }
   ],
   "source": [
    "# Verification\n",
    "check_id = random.choice(sampled_ids)\n",
    "print(f\"Inspecting black hole ID: {check_id}\")\n",
    "print(\"Snapshots:\", full_histories[check_id][\"snap_nums\"])\n",
    "print(\"BH Mass Sequence:\", full_histories[check_id][\"bh_mass\"])\n"
   ]
  },
  {
   "cell_type": "markdown",
   "id": "018ab118-ab5c-4cd5-9f15-3b286146024c",
   "metadata": {
    "jp-MarkdownHeadingCollapsed": true,
    "tags": []
   },
   "source": [
    "#### 2.4 Prepare Dataset for Machine Learning\n",
    "---\n",
    "Structure the extracted properties into a consistent time-series format and save as a CSV for future training."
   ]
  },
  {
   "cell_type": "code",
   "execution_count": 13,
   "id": "65f6625b-5b36-487c-b095-272336a193ee",
   "metadata": {
    "tags": []
   },
   "outputs": [
    {
     "name": "stdout",
     "output_type": "stream",
     "text": [
      "[OK] Saved long-format dataset to: ../data/black_hole_evolution_tng100.csv\n"
     ]
    },
    {
     "data": {
      "text/html": [
       "<div>\n",
       "<style scoped>\n",
       "    .dataframe tbody tr th:only-of-type {\n",
       "        vertical-align: middle;\n",
       "    }\n",
       "\n",
       "    .dataframe tbody tr th {\n",
       "        vertical-align: top;\n",
       "    }\n",
       "\n",
       "    .dataframe thead th {\n",
       "        text-align: right;\n",
       "    }\n",
       "</style>\n",
       "<table border=\"1\" class=\"dataframe\">\n",
       "  <thead>\n",
       "    <tr style=\"text-align: right;\">\n",
       "      <th>feature</th>\n",
       "      <th>subhalo_id</th>\n",
       "      <th>snapshot</th>\n",
       "      <th>bh_mass</th>\n",
       "      <th>bh_acc</th>\n",
       "      <th>stellar_mass</th>\n",
       "      <th>sfr</th>\n",
       "      <th>halo_mass</th>\n",
       "      <th>vel_disp</th>\n",
       "    </tr>\n",
       "  </thead>\n",
       "  <tbody>\n",
       "    <tr>\n",
       "      <th>0</th>\n",
       "      <td>13</td>\n",
       "      <td>18</td>\n",
       "      <td>0.0</td>\n",
       "      <td>0.0</td>\n",
       "      <td>0.006245</td>\n",
       "      <td>0.421397</td>\n",
       "      <td>0.802091</td>\n",
       "      <td>53.604897</td>\n",
       "    </tr>\n",
       "    <tr>\n",
       "      <th>1</th>\n",
       "      <td>13</td>\n",
       "      <td>19</td>\n",
       "      <td>0.0</td>\n",
       "      <td>0.0</td>\n",
       "      <td>0.016149</td>\n",
       "      <td>0.643598</td>\n",
       "      <td>8.043409</td>\n",
       "      <td>75.514915</td>\n",
       "    </tr>\n",
       "    <tr>\n",
       "      <th>2</th>\n",
       "      <td>13</td>\n",
       "      <td>20</td>\n",
       "      <td>0.0</td>\n",
       "      <td>0.0</td>\n",
       "      <td>0.023937</td>\n",
       "      <td>1.254688</td>\n",
       "      <td>11.051660</td>\n",
       "      <td>86.856369</td>\n",
       "    </tr>\n",
       "    <tr>\n",
       "      <th>3</th>\n",
       "      <td>13</td>\n",
       "      <td>21</td>\n",
       "      <td>0.0</td>\n",
       "      <td>0.0</td>\n",
       "      <td>0.030710</td>\n",
       "      <td>1.306005</td>\n",
       "      <td>13.369424</td>\n",
       "      <td>93.939201</td>\n",
       "    </tr>\n",
       "    <tr>\n",
       "      <th>4</th>\n",
       "      <td>13</td>\n",
       "      <td>22</td>\n",
       "      <td>0.0</td>\n",
       "      <td>0.0</td>\n",
       "      <td>0.067673</td>\n",
       "      <td>5.782820</td>\n",
       "      <td>17.118586</td>\n",
       "      <td>112.977501</td>\n",
       "    </tr>\n",
       "  </tbody>\n",
       "</table>\n",
       "</div>"
      ],
      "text/plain": [
       "feature  subhalo_id  snapshot  bh_mass  bh_acc  stellar_mass       sfr  \\\n",
       "0                13        18      0.0     0.0      0.006245  0.421397   \n",
       "1                13        19      0.0     0.0      0.016149  0.643598   \n",
       "2                13        20      0.0     0.0      0.023937  1.254688   \n",
       "3                13        21      0.0     0.0      0.030710  1.306005   \n",
       "4                13        22      0.0     0.0      0.067673  5.782820   \n",
       "\n",
       "feature  halo_mass    vel_disp  \n",
       "0         0.802091   53.604897  \n",
       "1         8.043409   75.514915  \n",
       "2        11.051660   86.856369  \n",
       "3        13.369424   93.939201  \n",
       "4        17.118586  112.977501  "
      ]
     },
     "execution_count": 13,
     "metadata": {},
     "output_type": "execute_result"
    }
   ],
   "source": [
    "# Cell 6 — wide→long (keeps same filename)\n",
    "\n",
    "import re\n",
    "import numpy as np\n",
    "import pandas as pd\n",
    "from pathlib import Path\n",
    "\n",
    "ID_COL = \"subhalo_id\"\n",
    "FEATURE_ORDER = [\"bh_mass\", \"bh_acc\", \"stellar_mass\", \"sfr\", \"halo_mass\", \"vel_disp\"]\n",
    "OUT_CSV = \"../data/black_hole_evolution_tng100.csv\"\n",
    "\n",
    "# ensure df exists (otherwise load prior CSV)\n",
    "if \"df\" not in globals():\n",
    "    if not Path(OUT_CSV).exists():\n",
    "        raise NameError(\"`df` is not defined and the source CSV was not found. Run the earlier cells that build `df` or create the CSV first.\")\n",
    "    df = pd.read_csv(OUT_CSV)\n",
    "\n",
    "# if already long (has 'snapshot' and no *_snapXX), just sort and save\n",
    "if \"snapshot\" in df.columns and not any(re.match(r\".+_snap\\d+$\", c) for c in df.columns):\n",
    "    tidy = df.copy()\n",
    "    if \"snapshot\" in tidy.columns:\n",
    "        tidy[\"snapshot\"] = tidy[\"snapshot\"].astype(int)\n",
    "        tidy = tidy.sort_values([ID_COL, \"snapshot\"]).reset_index(drop=True)\n",
    "    tidy.to_csv(OUT_CSV, index=False)\n",
    "    print(f\"[OK] Saved (already long) to: {OUT_CSV}\")\n",
    "else:\n",
    "    # parse *_snapXX columns\n",
    "    snap_col_pattern = re.compile(r\"^(?P<feature>.+)_snap(?P<snapshot>\\d+)$\")\n",
    "    parsed = [(c, m.group(\"feature\"), int(m.group(\"snapshot\")))\n",
    "              for c in df.columns\n",
    "              if (m := snap_col_pattern.match(c))]\n",
    "    if not parsed:\n",
    "        raise ValueError(\"No *_snapXX columns found. Make sure you're starting from the wide dataframe.\")\n",
    "    parse_map = pd.DataFrame(parsed, columns=[\"col\", \"feature\", \"snapshot\"])\n",
    "\n",
    "    # melt → pivot\n",
    "    long = df[[ID_COL] + parse_map[\"col\"].tolist()].melt(\n",
    "        id_vars=[ID_COL], var_name=\"col\", value_name=\"value\"\n",
    "    ).merge(parse_map, on=\"col\").drop(columns=[\"col\"])\n",
    "\n",
    "    tidy = long.pivot(index=[ID_COL, \"snapshot\"], columns=\"feature\", values=\"value\").reset_index()\n",
    "    tidy[\"snapshot\"] = tidy[\"snapshot\"].astype(int)\n",
    "    tidy = tidy.sort_values([ID_COL, \"snapshot\"]).reset_index(drop=True)\n",
    "\n",
    "    # add any missing expected features\n",
    "    for f in FEATURE_ORDER:\n",
    "        if f not in tidy.columns:\n",
    "            tidy[f] = np.nan\n",
    "\n",
    "    # column order\n",
    "    tidy = tidy[[ID_COL, \"snapshot\"]\n",
    "                + [c for c in FEATURE_ORDER if c in tidy.columns]\n",
    "                + [c for c in tidy.columns if c not in [ID_COL, \"snapshot\"] + FEATURE_ORDER]]\n",
    "\n",
    "    tidy.to_csv(OUT_CSV, index=False)\n",
    "    print(f\"[OK] Saved long-format dataset to: {OUT_CSV}\")\n",
    "\n",
    "tidy.head()\n"
   ]
  }
 ],
 "metadata": {
  "kernelspec": {
   "display_name": "Python 3 (ipykernel)",
   "language": "python",
   "name": "python3"
  },
  "language_info": {
   "codemirror_mode": {
    "name": "ipython",
    "version": 3
   },
   "file_extension": ".py",
   "mimetype": "text/x-python",
   "name": "python",
   "nbconvert_exporter": "python",
   "pygments_lexer": "ipython3",
   "version": "3.11.4"
  }
 },
 "nbformat": 4,
 "nbformat_minor": 5
}
