{
 "cells": [
  {
   "cell_type": "markdown",
   "id": "e8af6456-84d0-4e04-b13f-a333c634648c",
   "metadata": {
    "tags": []
   },
   "source": [
    "# Black Hole Evolution Dataset (TNG100)\n",
    "\n",
    "This notebook builds a dataset for modeling the evolution of black holes using the IllustrisTNG100 simulation (snapshots 18–33). The dataset will be used to train an LSTM to predict future black hole properties based on their past evolution.\n",
    "\n"
   ]
  },
  {
   "cell_type": "markdown",
   "id": "87b44815-15cb-4b66-ace5-9854b65fc15c",
   "metadata": {
    "tags": []
   },
   "source": [
    "## 1. Environment Setup\n",
    "---\n",
    "Import core libraries and configure reproducibility settings.\n"
   ]
  },
  {
   "cell_type": "code",
   "execution_count": 4,
   "id": "c6be1b2f-46cd-45c2-a8f4-b95263c5429b",
   "metadata": {
    "tags": []
   },
   "outputs": [
    {
     "name": "stdout",
     "output_type": "stream",
     "text": [
      "NumPy version: 1.24.3\n",
      "PyTorch version: 2.0.1+cpu\n"
     ]
    }
   ],
   "source": [
    "import requests\n",
    "import numpy as np\n",
    "import torch\n",
    "import random\n",
    "\n",
    "random.seed(42)  # Ensures reproducible random sampling later\n",
    "\n",
    "print(f\"NumPy version: {np.__version__}\")\n",
    "print(f\"PyTorch version: {torch.__version__}\")\n"
   ]
  },
  {
   "cell_type": "markdown",
   "id": "0494de75-42c1-4161-a7ca-27e632c6f127",
   "metadata": {
    "tags": []
   },
   "source": [
    "## 2. Data Access & Preprocessing\n",
    "---\n"
   ]
  },
  {
   "cell_type": "markdown",
   "id": "724b0bcb-f12c-4064-bbfd-aa6d49ae2bf3",
   "metadata": {
    "jp-MarkdownHeadingCollapsed": true,
    "tags": []
   },
   "source": [
    "#### 2.1 Load Subhalo Catalog (Snapshot 33)\n",
    "---\n",
    "We begin by selecting black-hole-hosting subhalos at snapshot 33 (z ≈ 0, present day)."
   ]
  },
  {
   "cell_type": "code",
   "execution_count": 13,
   "id": "202f0717-b569-4174-b502-44d4aadd32dc",
   "metadata": {
    "tags": []
   },
   "outputs": [
    {
     "name": "stdout",
     "output_type": "stream",
     "text": [
      "Total subhalos with black holes: 29415\n"
     ]
    }
   ],
   "source": [
    "import illustris_python as il\n",
    "\n",
    "basePath = \"/home/tnguser/sims.TNG/TNG100-1/output\" # Adjust based on Environment\n",
    "\n",
    "subhalos = il.groupcat.loadSubhalos(\n",
    "    basePath, \n",
    "    33, \n",
    "    fields=['SubhaloBHMass', 'SubhaloMassType']\n",
    ")\n",
    "\n",
    "bh_mass = subhalos['SubhaloBHMass']\n",
    "stellar_mass = subhalos['SubhaloMassType'][:, 4]  # Type 4 = stellar component\n",
    "\n",
    "bh_mask = bh_mass > 0\n",
    "print(f\"Total subhalos with black holes: {bh_mask.sum()}\")\n"
   ]
  },
  {
   "cell_type": "markdown",
   "id": "93f4a606-0e97-46cd-8e93-d512a5cbf997",
   "metadata": {
    "tags": []
   },
   "source": [
    "#### 2.2 Trace Black Holes with Complete Histories\n",
    "---\n",
    "Trace all subhalos with black holes backward through snapshots 32 → 18. Only systems with complete histories across all required snapshots are kept for building consistent temporal sequences."
   ]
  },
  {
   "cell_type": "code",
   "execution_count": null,
   "id": "abe53b92-851e-4443-8d0f-4a5bb8238cdf",
   "metadata": {
    "tags": []
   },
   "outputs": [],
   "source": [
    "tree_base = f\"{basePath}/postprocessing/trees/sublink\"\n",
    "\n",
    "full_histories = {}\n",
    "\n",
    "for i, sub_id in enumerate([i for i, has_bh in enumerate(bh_mask) if has_bh]):\n",
    "    try:\n",
    "        tree = il.sublink.loadTree(\n",
    "            basePath,\n",
    "            33,\n",
    "            sub_id,\n",
    "            fields=['SubhaloID', 'SnapNum'],\n",
    "            onlyMPB=True\n",
    "        )\n",
    "        mask = (tree['SnapNum'] <= 32) & (tree['SnapNum'] >= 18)\n",
    "        \n",
    "        # Keep only if all snapshots 32 → 18 are present\n",
    "        snaps = tree['SnapNum'][mask]\n",
    "        if set(range(18, 33)).issubset(set(snaps)):\n",
    "            sorted_idx = np.argsort(snaps)\n",
    "            full_histories[sub_id] = tree['SubhaloID'][mask][sorted_idx]\n",
    "    except:\n",
    "        continue\n",
    "\n",
    "print(f\"Black holes with complete histories: {len(full_histories)}\")\n"
   ]
  },
  {
   "cell_type": "code",
   "execution_count": null,
   "id": "79d79158-9f40-4c69-8e7c-87b4a55e8266",
   "metadata": {},
   "outputs": [],
   "source": []
  }
 ],
 "metadata": {
  "kernelspec": {
   "display_name": "Python 3 (ipykernel)",
   "language": "python",
   "name": "python3"
  },
  "language_info": {
   "codemirror_mode": {
    "name": "ipython",
    "version": 3
   },
   "file_extension": ".py",
   "mimetype": "text/x-python",
   "name": "python",
   "nbconvert_exporter": "python",
   "pygments_lexer": "ipython3",
   "version": "3.11.4"
  }
 },
 "nbformat": 4,
 "nbformat_minor": 5
}
